{
  "cells": [
    {
      "cell_type": "code",
      "source": [
        "cd ~/Desktop/floating_Solar/SAM/"
      ],
      "outputs": [
        {
          "output_type": "stream",
          "name": "stdout",
          "text": [
            "/Users/rspencer/Desktop/floating_Solar/SAM\n"
          ]
        }
      ],
      "execution_count": 1,
      "metadata": {
        "collapsed": false,
        "outputHidden": false,
        "inputHidden": false
      }
    },
    {
      "cell_type": "code",
      "source": [
        "ls"
      ],
      "outputs": [
        {
          "output_type": "stream",
          "name": "stdout",
          "text": [
            "SAM_Results.csv                \u001b[1m\u001b[31mmanmade_waterbodies.csv\u001b[m\u001b[m*\r\n",
            "SAM_Results_WindowsCSV.csv     results.csv\r\n",
            "SAM_Results_WindowsCSV_v2.csv  \u001b[1m\u001b[31mwater.sam\u001b[m\u001b[m*\r\n",
            "SAM_Results_v2.csv             \u001b[1m\u001b[31mwater_analysis.lk\u001b[m\u001b[m*\r\n",
            "SAM_lk_guide.pdf               water_analysis[1].lk\r\n",
            "hydro.csv                      \u001b[1m\u001b[36mweather_data\u001b[m\u001b[m/\r\n",
            "hydro_results.csv\r\n"
          ]
        }
      ],
      "execution_count": 2,
      "metadata": {
        "collapsed": false,
        "outputHidden": false,
        "inputHidden": false
      }
    },
    {
      "cell_type": "code",
      "source": [
        "import pandas as pd\n",
        "import numpy as np"
      ],
      "outputs": [],
      "execution_count": 3,
      "metadata": {
        "collapsed": false,
        "outputHidden": false,
        "inputHidden": false
      }
    },
    {
      "cell_type": "code",
      "source": [
        "rawdata = pd.read_csv(\"SAM_Results_v2.csv\").drop_duplicates(subset=\"dam_name\")[['state', 'nid_area', 'prim_owner', 'prim_purpose', 'pv_annual_kWh', 'evap_acrft']]\n",
        "rawdata.shape"
      ],
      "outputs": [
        {
          "output_type": "execute_result",
          "execution_count": 4,
          "data": {
            "text/plain": [
              "(24419, 6)"
            ]
          },
          "metadata": {}
        }
      ],
      "execution_count": 4,
      "metadata": {
        "collapsed": false,
        "outputHidden": false,
        "inputHidden": false
      }
    },
    {
      "cell_type": "code",
      "source": [
        "rawdata.columns"
      ],
      "outputs": [
        {
          "output_type": "execute_result",
          "execution_count": 5,
          "data": {
            "text/plain": [
              "Index(['state', 'nid_area', 'prim_owner', 'prim_purpose', 'pv_annual_kWh',\n",
              "       'evap_acrft'],\n",
              "      dtype='object')"
            ]
          },
          "metadata": {}
        }
      ],
      "execution_count": 5,
      "metadata": {
        "collapsed": false,
        "outputHidden": false,
        "inputHidden": false
      }
    },
    {
      "cell_type": "code",
      "source": [
        "rawdata.columns = ['state', 'area_acrs', 'primary_owner', 'primary_purpose', 'pv_annual_kWh', 'evap_acrft']"
      ],
      "outputs": [],
      "execution_count": 6,
      "metadata": {
        "collapsed": false,
        "outputHidden": false,
        "inputHidden": false
      }
    },
    {
      "cell_type": "code",
      "source": [
        "rawdata.pv_annual_kWh.sum()/1000000000"
      ],
      "outputs": [
        {
          "output_type": "execute_result",
          "execution_count": 7,
          "data": {
            "text/plain": [
              "786.2366976427704"
            ]
          },
          "metadata": {}
        }
      ],
      "execution_count": 7,
      "metadata": {
        "collapsed": false,
        "outputHidden": false,
        "inputHidden": false
      }
    },
    {
      "cell_type": "code",
      "source": [
        "evapdata = pd.read_csv(\"SAM_Results_v2.csv\").drop_duplicates(subset=\"dam_name\")[['state','lat','long','nid_area']]\n",
        "evapdata.to_csv(\"../results/SAM_Results_v2_cleaned.csv\")"
      ],
      "outputs": [],
      "execution_count": 8,
      "metadata": {
        "collapsed": false,
        "outputHidden": false,
        "inputHidden": false
      }
    },
    {
      "cell_type": "code",
      "source": [
        "cd ~/Desktop/floating_Solar/"
      ],
      "outputs": [
        {
          "output_type": "stream",
          "name": "stdout",
          "text": [
            "/Users/rspencer/Desktop/floating_Solar\n"
          ]
        }
      ],
      "execution_count": 14,
      "metadata": {
        "collapsed": false,
        "outputHidden": false,
        "inputHidden": false
      }
    },
    {
      "cell_type": "code",
      "source": [
        "gb = data.groupby('state').sum()\n",
        "gb.to_csv(\"results/ALL_v2.csv\")"
      ],
      "outputs": [],
      "execution_count": 16,
      "metadata": {
        "collapsed": false,
        "outputHidden": false,
        "inputHidden": false
      }
    },
    {
      "cell_type": "code",
      "source": [
        "owners = data.primary_owner.unique()\n",
        "for owner in owners:\n",
        "    print (owner)\n",
        "    gb = data[data.primary_owner == owner].groupby('state').sum()\n",
        "    gb.to_csv(\"results/\"+owner+\"_v2.csv\")"
      ],
      "outputs": [
        {
          "output_type": "stream",
          "name": "stdout",
          "text": [
            "Private\n",
            "State\n",
            "Local Government\n",
            "Public Utility\n",
            "Federal\n"
          ]
        }
      ],
      "execution_count": 17,
      "metadata": {
        "collapsed": false,
        "outputHidden": false,
        "inputHidden": false
      }
    },
    {
      "cell_type": "code",
      "source": [
        "purposes = data.primary_purpose.unique()\n",
        "for purpose in purposes:\n",
        "    print (purpose)\n",
        "    gb = data[data.primary_purpose == purpose].groupby('state').sum()\n",
        "    gb.to_csv(\"results/\"+purpose+\"_v2.csv\")"
      ],
      "outputs": [
        {
          "output_type": "stream",
          "name": "stdout",
          "text": [
            "Irrigation\n",
            "Control; Stabilization; Protection\n",
            "Hydroelectric\n",
            "Water Supply\n"
          ]
        }
      ],
      "execution_count": 18,
      "metadata": {
        "collapsed": false,
        "outputHidden": false,
        "inputHidden": false
      }
    },
    {
      "cell_type": "code",
      "source": [
        "gb.sort_values(\"pv_annual_kWh\")"
      ],
      "outputs": [
        {
          "output_type": "execute_result",
          "execution_count": 28,
          "data": {
            "text/plain": [
              "          area_acrs  pv_annual_kWh  evap_acrft\n",
              "state                                         \n",
              "DE     3.026439e+02   1.134985e+07          26\n",
              "OH     9.284410e+02   1.856598e+08        2552\n",
              "MA     2.319540e+03   4.099161e+08         191\n",
              "IN     1.088937e+04   7.634547e+08        7757\n",
              "VT     4.671000e+03   8.939441e+08         318\n",
              "PA     4.572936e+03   9.463377e+08        2737\n",
              "MD     4.753669e+03   1.020427e+09        1632\n",
              "IA     1.826504e+04   1.583062e+09       23501\n",
              "TN     8.618773e+03   1.795035e+09       13472\n",
              "RI     8.497036e+03   1.814582e+09         451\n",
              "WV     9.513121e+03   1.909889e+09       27076\n",
              "AL     9.682528e+03   2.117095e+09       21029\n",
              "IL     1.692003e+04   2.561825e+09       32316\n",
              "MO     1.840140e+04   2.564998e+09       25766\n",
              "ND     1.337935e+04   2.865803e+09       18956\n",
              "GA     3.999648e+04   2.875997e+09       79361\n",
              "SD     1.293560e+04   2.944164e+09       17084\n",
              "KY     1.528809e+04   3.218218e+09       39057\n",
              "NH     1.727744e+04   3.349198e+09        4307\n",
              "CT     3.081713e+04   3.767286e+09       -2242\n",
              "NJ     1.835020e+04   3.830956e+09       42126\n",
              "ID     1.355452e+05   3.961180e+09      398592\n",
              "AR     3.176365e+04   5.226197e+09       32230\n",
              "CO     1.290471e+05   9.667570e+09      406617\n",
              "WI     4.856676e+04   1.012106e+10       28713\n",
              "KS     7.270296e+04   1.052037e+10      188686\n",
              "MI     6.464418e+04   1.254365e+10      113722\n",
              "MS     5.482528e+04   1.275887e+10       38320\n",
              "OR     8.505155e+04   1.711517e+10      329755\n",
              "NC     7.618200e+04   1.724584e+10      180367\n",
              "NE     8.556988e+04   1.891936e+10      149732\n",
              "AZ     1.357958e+05   2.500492e+10     1140207\n",
              "NY     1.362201e+05   2.501304e+10       43753\n",
              "CA     4.716061e+05   2.727436e+10     2618514\n",
              "WY     1.421957e+05   3.155236e+10      533841\n",
              "MT     1.826400e+05   3.652869e+10      523258\n",
              "ME     1.924540e+05   3.760797e+10      193298\n",
              "WA     1.984274e+05   3.938731e+10      599587\n",
              "SC     1.858420e+05   4.300504e+10      683602\n",
              "VA     1.996236e+05   4.446017e+10      270385\n",
              "NV     1.926733e+05   5.172886e+10      955339\n",
              "TX     2.114622e+05   5.284124e+10     1161784\n",
              "UT     2.468020e+05   6.060787e+10      827245\n",
              "MN     3.295889e+05   6.460736e+10      389912\n",
              "NM     3.650933e+05   1.028493e+11     1653116\n",
              "LA     4.385497e+05   1.068389e+11      305406\n",
              "OK     6.396619e+05   1.201114e+11     1309912\n",
              "FL     1.782627e+06   2.560770e+11    10871527"
            ],
            "text/html": [
              "<div>\n",
              "<style>\n",
              "    .dataframe thead tr:only-child th {\n",
              "        text-align: right;\n",
              "    }\n",
              "\n",
              "    .dataframe thead th {\n",
              "        text-align: left;\n",
              "    }\n",
              "\n",
              "    .dataframe tbody tr th {\n",
              "        vertical-align: top;\n",
              "    }\n",
              "</style>\n",
              "<table border=\"1\" class=\"dataframe\">\n",
              "  <thead>\n",
              "    <tr style=\"text-align: right;\">\n",
              "      <th></th>\n",
              "      <th>area_acrs</th>\n",
              "      <th>pv_annual_kWh</th>\n",
              "      <th>evap_acrft</th>\n",
              "    </tr>\n",
              "    <tr>\n",
              "      <th>state</th>\n",
              "      <th></th>\n",
              "      <th></th>\n",
              "      <th></th>\n",
              "    </tr>\n",
              "  </thead>\n",
              "  <tbody>\n",
              "    <tr>\n",
              "      <th>DE</th>\n",
              "      <td>3.026439e+02</td>\n",
              "      <td>1.134985e+07</td>\n",
              "      <td>26</td>\n",
              "    </tr>\n",
              "    <tr>\n",
              "      <th>OH</th>\n",
              "      <td>9.284410e+02</td>\n",
              "      <td>1.856598e+08</td>\n",
              "      <td>2552</td>\n",
              "    </tr>\n",
              "    <tr>\n",
              "      <th>MA</th>\n",
              "      <td>2.319540e+03</td>\n",
              "      <td>4.099161e+08</td>\n",
              "      <td>191</td>\n",
              "    </tr>\n",
              "    <tr>\n",
              "      <th>IN</th>\n",
              "      <td>1.088937e+04</td>\n",
              "      <td>7.634547e+08</td>\n",
              "      <td>7757</td>\n",
              "    </tr>\n",
              "    <tr>\n",
              "      <th>VT</th>\n",
              "      <td>4.671000e+03</td>\n",
              "      <td>8.939441e+08</td>\n",
              "      <td>318</td>\n",
              "    </tr>\n",
              "    <tr>\n",
              "      <th>PA</th>\n",
              "      <td>4.572936e+03</td>\n",
              "      <td>9.463377e+08</td>\n",
              "      <td>2737</td>\n",
              "    </tr>\n",
              "    <tr>\n",
              "      <th>MD</th>\n",
              "      <td>4.753669e+03</td>\n",
              "      <td>1.020427e+09</td>\n",
              "      <td>1632</td>\n",
              "    </tr>\n",
              "    <tr>\n",
              "      <th>IA</th>\n",
              "      <td>1.826504e+04</td>\n",
              "      <td>1.583062e+09</td>\n",
              "      <td>23501</td>\n",
              "    </tr>\n",
              "    <tr>\n",
              "      <th>TN</th>\n",
              "      <td>8.618773e+03</td>\n",
              "      <td>1.795035e+09</td>\n",
              "      <td>13472</td>\n",
              "    </tr>\n",
              "    <tr>\n",
              "      <th>RI</th>\n",
              "      <td>8.497036e+03</td>\n",
              "      <td>1.814582e+09</td>\n",
              "      <td>451</td>\n",
              "    </tr>\n",
              "    <tr>\n",
              "      <th>WV</th>\n",
              "      <td>9.513121e+03</td>\n",
              "      <td>1.909889e+09</td>\n",
              "      <td>27076</td>\n",
              "    </tr>\n",
              "    <tr>\n",
              "      <th>AL</th>\n",
              "      <td>9.682528e+03</td>\n",
              "      <td>2.117095e+09</td>\n",
              "      <td>21029</td>\n",
              "    </tr>\n",
              "    <tr>\n",
              "      <th>IL</th>\n",
              "      <td>1.692003e+04</td>\n",
              "      <td>2.561825e+09</td>\n",
              "      <td>32316</td>\n",
              "    </tr>\n",
              "    <tr>\n",
              "      <th>MO</th>\n",
              "      <td>1.840140e+04</td>\n",
              "      <td>2.564998e+09</td>\n",
              "      <td>25766</td>\n",
              "    </tr>\n",
              "    <tr>\n",
              "      <th>ND</th>\n",
              "      <td>1.337935e+04</td>\n",
              "      <td>2.865803e+09</td>\n",
              "      <td>18956</td>\n",
              "    </tr>\n",
              "    <tr>\n",
              "      <th>GA</th>\n",
              "      <td>3.999648e+04</td>\n",
              "      <td>2.875997e+09</td>\n",
              "      <td>79361</td>\n",
              "    </tr>\n",
              "    <tr>\n",
              "      <th>SD</th>\n",
              "      <td>1.293560e+04</td>\n",
              "      <td>2.944164e+09</td>\n",
              "      <td>17084</td>\n",
              "    </tr>\n",
              "    <tr>\n",
              "      <th>KY</th>\n",
              "      <td>1.528809e+04</td>\n",
              "      <td>3.218218e+09</td>\n",
              "      <td>39057</td>\n",
              "    </tr>\n",
              "    <tr>\n",
              "      <th>NH</th>\n",
              "      <td>1.727744e+04</td>\n",
              "      <td>3.349198e+09</td>\n",
              "      <td>4307</td>\n",
              "    </tr>\n",
              "    <tr>\n",
              "      <th>CT</th>\n",
              "      <td>3.081713e+04</td>\n",
              "      <td>3.767286e+09</td>\n",
              "      <td>-2242</td>\n",
              "    </tr>\n",
              "    <tr>\n",
              "      <th>NJ</th>\n",
              "      <td>1.835020e+04</td>\n",
              "      <td>3.830956e+09</td>\n",
              "      <td>42126</td>\n",
              "    </tr>\n",
              "    <tr>\n",
              "      <th>ID</th>\n",
              "      <td>1.355452e+05</td>\n",
              "      <td>3.961180e+09</td>\n",
              "      <td>398592</td>\n",
              "    </tr>\n",
              "    <tr>\n",
              "      <th>AR</th>\n",
              "      <td>3.176365e+04</td>\n",
              "      <td>5.226197e+09</td>\n",
              "      <td>32230</td>\n",
              "    </tr>\n",
              "    <tr>\n",
              "      <th>CO</th>\n",
              "      <td>1.290471e+05</td>\n",
              "      <td>9.667570e+09</td>\n",
              "      <td>406617</td>\n",
              "    </tr>\n",
              "    <tr>\n",
              "      <th>WI</th>\n",
              "      <td>4.856676e+04</td>\n",
              "      <td>1.012106e+10</td>\n",
              "      <td>28713</td>\n",
              "    </tr>\n",
              "    <tr>\n",
              "      <th>KS</th>\n",
              "      <td>7.270296e+04</td>\n",
              "      <td>1.052037e+10</td>\n",
              "      <td>188686</td>\n",
              "    </tr>\n",
              "    <tr>\n",
              "      <th>MI</th>\n",
              "      <td>6.464418e+04</td>\n",
              "      <td>1.254365e+10</td>\n",
              "      <td>113722</td>\n",
              "    </tr>\n",
              "    <tr>\n",
              "      <th>MS</th>\n",
              "      <td>5.482528e+04</td>\n",
              "      <td>1.275887e+10</td>\n",
              "      <td>38320</td>\n",
              "    </tr>\n",
              "    <tr>\n",
              "      <th>OR</th>\n",
              "      <td>8.505155e+04</td>\n",
              "      <td>1.711517e+10</td>\n",
              "      <td>329755</td>\n",
              "    </tr>\n",
              "    <tr>\n",
              "      <th>NC</th>\n",
              "      <td>7.618200e+04</td>\n",
              "      <td>1.724584e+10</td>\n",
              "      <td>180367</td>\n",
              "    </tr>\n",
              "    <tr>\n",
              "      <th>NE</th>\n",
              "      <td>8.556988e+04</td>\n",
              "      <td>1.891936e+10</td>\n",
              "      <td>149732</td>\n",
              "    </tr>\n",
              "    <tr>\n",
              "      <th>AZ</th>\n",
              "      <td>1.357958e+05</td>\n",
              "      <td>2.500492e+10</td>\n",
              "      <td>1140207</td>\n",
              "    </tr>\n",
              "    <tr>\n",
              "      <th>NY</th>\n",
              "      <td>1.362201e+05</td>\n",
              "      <td>2.501304e+10</td>\n",
              "      <td>43753</td>\n",
              "    </tr>\n",
              "    <tr>\n",
              "      <th>CA</th>\n",
              "      <td>4.716061e+05</td>\n",
              "      <td>2.727436e+10</td>\n",
              "      <td>2618514</td>\n",
              "    </tr>\n",
              "    <tr>\n",
              "      <th>WY</th>\n",
              "      <td>1.421957e+05</td>\n",
              "      <td>3.155236e+10</td>\n",
              "      <td>533841</td>\n",
              "    </tr>\n",
              "    <tr>\n",
              "      <th>MT</th>\n",
              "      <td>1.826400e+05</td>\n",
              "      <td>3.652869e+10</td>\n",
              "      <td>523258</td>\n",
              "    </tr>\n",
              "    <tr>\n",
              "      <th>ME</th>\n",
              "      <td>1.924540e+05</td>\n",
              "      <td>3.760797e+10</td>\n",
              "      <td>193298</td>\n",
              "    </tr>\n",
              "    <tr>\n",
              "      <th>WA</th>\n",
              "      <td>1.984274e+05</td>\n",
              "      <td>3.938731e+10</td>\n",
              "      <td>599587</td>\n",
              "    </tr>\n",
              "    <tr>\n",
              "      <th>SC</th>\n",
              "      <td>1.858420e+05</td>\n",
              "      <td>4.300504e+10</td>\n",
              "      <td>683602</td>\n",
              "    </tr>\n",
              "    <tr>\n",
              "      <th>VA</th>\n",
              "      <td>1.996236e+05</td>\n",
              "      <td>4.446017e+10</td>\n",
              "      <td>270385</td>\n",
              "    </tr>\n",
              "    <tr>\n",
              "      <th>NV</th>\n",
              "      <td>1.926733e+05</td>\n",
              "      <td>5.172886e+10</td>\n",
              "      <td>955339</td>\n",
              "    </tr>\n",
              "    <tr>\n",
              "      <th>TX</th>\n",
              "      <td>2.114622e+05</td>\n",
              "      <td>5.284124e+10</td>\n",
              "      <td>1161784</td>\n",
              "    </tr>\n",
              "    <tr>\n",
              "      <th>UT</th>\n",
              "      <td>2.468020e+05</td>\n",
              "      <td>6.060787e+10</td>\n",
              "      <td>827245</td>\n",
              "    </tr>\n",
              "    <tr>\n",
              "      <th>MN</th>\n",
              "      <td>3.295889e+05</td>\n",
              "      <td>6.460736e+10</td>\n",
              "      <td>389912</td>\n",
              "    </tr>\n",
              "    <tr>\n",
              "      <th>NM</th>\n",
              "      <td>3.650933e+05</td>\n",
              "      <td>1.028493e+11</td>\n",
              "      <td>1653116</td>\n",
              "    </tr>\n",
              "    <tr>\n",
              "      <th>LA</th>\n",
              "      <td>4.385497e+05</td>\n",
              "      <td>1.068389e+11</td>\n",
              "      <td>305406</td>\n",
              "    </tr>\n",
              "    <tr>\n",
              "      <th>OK</th>\n",
              "      <td>6.396619e+05</td>\n",
              "      <td>1.201114e+11</td>\n",
              "      <td>1309912</td>\n",
              "    </tr>\n",
              "    <tr>\n",
              "      <th>FL</th>\n",
              "      <td>1.782627e+06</td>\n",
              "      <td>2.560770e+11</td>\n",
              "      <td>10871527</td>\n",
              "    </tr>\n",
              "  </tbody>\n",
              "</table>\n",
              "</div>"
            ]
          },
          "metadata": {}
        }
      ],
      "execution_count": 28,
      "metadata": {
        "collapsed": false,
        "outputHidden": false,
        "inputHidden": false
      }
    },
    {
      "cell_type": "code",
      "source": [
        "rawdata.sort_values(\"nid_area\", ascending=False)[:15][['state','dam_name','nid_area','nhd_area', 'prim_owner', 'prim_purpose']]"
      ],
      "outputs": [
        {
          "output_type": "execute_result",
          "execution_count": 31,
          "data": {
            "text/plain": [
              "      state                    dam_name      nid_area       nhd_area  \\\n",
              "38873    LA            RED MUCK LAKE #4  407802.76900  407802.769000   \n",
              "37484    FL               STRUCTURE 191  320277.78460  320277.784600   \n",
              "17756    MN          LOWER RED LAKE DAM  288640.00000  164696.304300   \n",
              "25052    NM         CANADA CORRALES DAM  239475.00000       8.159355   \n",
              "2979     FL      G94C CONTROL STRUCTURE  163000.00000    4202.727401   \n",
              "3085     FL      G94B CONTROL STRUCTURE  163000.00000       9.974082   \n",
              "3156     FL      G94A CONTROL STRUCTURE  163000.00000     363.817527   \n",
              "24296    NV                      HOOVER  156800.00000  135671.531700   \n",
              "37548    FL       PUMPING STATION NO. 6  137907.49090  137907.490900   \n",
              "2978     FL      G301 CONTROL STRUCTURE  133000.00000     132.695385   \n",
              "434      CA                  LAKE TAHOE  120000.00000  123089.619800   \n",
              "37648    FL           STRUCTURE NO. 150  116085.73090  116085.730900   \n",
              "37563    FL       PUMPING STATION NO. 7  103906.33620  103906.336200   \n",
              "45571    UT            UTAH LAKE OUTLET   91157.28039   91157.280390   \n",
              "28578    OK  DENISON DAM - PLATTER DIKE   86910.00000       3.212365   \n",
              "\n",
              "      prim_owner                        prim_purpose  \n",
              "38873    Private                            Tailings  \n",
              "37484      State  Control; Stabilization; Protection  \n",
              "17756    Federal  Control; Stabilization; Protection  \n",
              "25052    Federal  Control; Stabilization; Protection  \n",
              "2979       State  Control; Stabilization; Protection  \n",
              "3085       State  Control; Stabilization; Protection  \n",
              "3156       State  Control; Stabilization; Protection  \n",
              "24296    Federal                       Hydroelectric  \n",
              "37548      State  Control; Stabilization; Protection  \n",
              "2978       State                        Water Supply  \n",
              "434      Federal                          Irrigation  \n",
              "37648      State  Control; Stabilization; Protection  \n",
              "37563      State  Control; Stabilization; Protection  \n",
              "45571    Private                        Water Supply  \n",
              "28578    Federal  Control; Stabilization; Protection  "
            ],
            "text/html": [
              "<div>\n",
              "<style>\n",
              "    .dataframe thead tr:only-child th {\n",
              "        text-align: right;\n",
              "    }\n",
              "\n",
              "    .dataframe thead th {\n",
              "        text-align: left;\n",
              "    }\n",
              "\n",
              "    .dataframe tbody tr th {\n",
              "        vertical-align: top;\n",
              "    }\n",
              "</style>\n",
              "<table border=\"1\" class=\"dataframe\">\n",
              "  <thead>\n",
              "    <tr style=\"text-align: right;\">\n",
              "      <th></th>\n",
              "      <th>state</th>\n",
              "      <th>dam_name</th>\n",
              "      <th>nid_area</th>\n",
              "      <th>nhd_area</th>\n",
              "      <th>prim_owner</th>\n",
              "      <th>prim_purpose</th>\n",
              "    </tr>\n",
              "  </thead>\n",
              "  <tbody>\n",
              "    <tr>\n",
              "      <th>38873</th>\n",
              "      <td>LA</td>\n",
              "      <td>RED MUCK LAKE #4</td>\n",
              "      <td>407802.76900</td>\n",
              "      <td>407802.769000</td>\n",
              "      <td>Private</td>\n",
              "      <td>Tailings</td>\n",
              "    </tr>\n",
              "    <tr>\n",
              "      <th>37484</th>\n",
              "      <td>FL</td>\n",
              "      <td>STRUCTURE 191</td>\n",
              "      <td>320277.78460</td>\n",
              "      <td>320277.784600</td>\n",
              "      <td>State</td>\n",
              "      <td>Control; Stabilization; Protection</td>\n",
              "    </tr>\n",
              "    <tr>\n",
              "      <th>17756</th>\n",
              "      <td>MN</td>\n",
              "      <td>LOWER RED LAKE DAM</td>\n",
              "      <td>288640.00000</td>\n",
              "      <td>164696.304300</td>\n",
              "      <td>Federal</td>\n",
              "      <td>Control; Stabilization; Protection</td>\n",
              "    </tr>\n",
              "    <tr>\n",
              "      <th>25052</th>\n",
              "      <td>NM</td>\n",
              "      <td>CANADA CORRALES DAM</td>\n",
              "      <td>239475.00000</td>\n",
              "      <td>8.159355</td>\n",
              "      <td>Federal</td>\n",
              "      <td>Control; Stabilization; Protection</td>\n",
              "    </tr>\n",
              "    <tr>\n",
              "      <th>2979</th>\n",
              "      <td>FL</td>\n",
              "      <td>G94C CONTROL STRUCTURE</td>\n",
              "      <td>163000.00000</td>\n",
              "      <td>4202.727401</td>\n",
              "      <td>State</td>\n",
              "      <td>Control; Stabilization; Protection</td>\n",
              "    </tr>\n",
              "    <tr>\n",
              "      <th>3085</th>\n",
              "      <td>FL</td>\n",
              "      <td>G94B CONTROL STRUCTURE</td>\n",
              "      <td>163000.00000</td>\n",
              "      <td>9.974082</td>\n",
              "      <td>State</td>\n",
              "      <td>Control; Stabilization; Protection</td>\n",
              "    </tr>\n",
              "    <tr>\n",
              "      <th>3156</th>\n",
              "      <td>FL</td>\n",
              "      <td>G94A CONTROL STRUCTURE</td>\n",
              "      <td>163000.00000</td>\n",
              "      <td>363.817527</td>\n",
              "      <td>State</td>\n",
              "      <td>Control; Stabilization; Protection</td>\n",
              "    </tr>\n",
              "    <tr>\n",
              "      <th>24296</th>\n",
              "      <td>NV</td>\n",
              "      <td>HOOVER</td>\n",
              "      <td>156800.00000</td>\n",
              "      <td>135671.531700</td>\n",
              "      <td>Federal</td>\n",
              "      <td>Hydroelectric</td>\n",
              "    </tr>\n",
              "    <tr>\n",
              "      <th>37548</th>\n",
              "      <td>FL</td>\n",
              "      <td>PUMPING STATION NO. 6</td>\n",
              "      <td>137907.49090</td>\n",
              "      <td>137907.490900</td>\n",
              "      <td>State</td>\n",
              "      <td>Control; Stabilization; Protection</td>\n",
              "    </tr>\n",
              "    <tr>\n",
              "      <th>2978</th>\n",
              "      <td>FL</td>\n",
              "      <td>G301 CONTROL STRUCTURE</td>\n",
              "      <td>133000.00000</td>\n",
              "      <td>132.695385</td>\n",
              "      <td>State</td>\n",
              "      <td>Water Supply</td>\n",
              "    </tr>\n",
              "    <tr>\n",
              "      <th>434</th>\n",
              "      <td>CA</td>\n",
              "      <td>LAKE TAHOE</td>\n",
              "      <td>120000.00000</td>\n",
              "      <td>123089.619800</td>\n",
              "      <td>Federal</td>\n",
              "      <td>Irrigation</td>\n",
              "    </tr>\n",
              "    <tr>\n",
              "      <th>37648</th>\n",
              "      <td>FL</td>\n",
              "      <td>STRUCTURE NO. 150</td>\n",
              "      <td>116085.73090</td>\n",
              "      <td>116085.730900</td>\n",
              "      <td>State</td>\n",
              "      <td>Control; Stabilization; Protection</td>\n",
              "    </tr>\n",
              "    <tr>\n",
              "      <th>37563</th>\n",
              "      <td>FL</td>\n",
              "      <td>PUMPING STATION NO. 7</td>\n",
              "      <td>103906.33620</td>\n",
              "      <td>103906.336200</td>\n",
              "      <td>State</td>\n",
              "      <td>Control; Stabilization; Protection</td>\n",
              "    </tr>\n",
              "    <tr>\n",
              "      <th>45571</th>\n",
              "      <td>UT</td>\n",
              "      <td>UTAH LAKE OUTLET</td>\n",
              "      <td>91157.28039</td>\n",
              "      <td>91157.280390</td>\n",
              "      <td>Private</td>\n",
              "      <td>Water Supply</td>\n",
              "    </tr>\n",
              "    <tr>\n",
              "      <th>28578</th>\n",
              "      <td>OK</td>\n",
              "      <td>DENISON DAM - PLATTER DIKE</td>\n",
              "      <td>86910.00000</td>\n",
              "      <td>3.212365</td>\n",
              "      <td>Federal</td>\n",
              "      <td>Control; Stabilization; Protection</td>\n",
              "    </tr>\n",
              "  </tbody>\n",
              "</table>\n",
              "</div>"
            ]
          },
          "metadata": {}
        }
      ],
      "execution_count": 31,
      "metadata": {
        "collapsed": false,
        "outputHidden": false,
        "inputHidden": false
      }
    },
    {
      "cell_type": "code",
      "source": [
        "cd /Volumes/LaCie/FPV_GIS/waterbodies/"
      ],
      "outputs": [
        {
          "output_type": "stream",
          "name": "stdout",
          "text": [
            "/Volumes/LaCie/FPV_GIS/waterbodies\n"
          ]
        }
      ],
      "execution_count": 19,
      "metadata": {
        "collapsed": false,
        "outputHidden": false,
        "inputHidden": false
      }
    },
    {
      "cell_type": "code",
      "source": [
        "nid = pd.read_csv(\"nid.csv\", encoding = \"ISO-8859-1\")"
      ],
      "outputs": [],
      "execution_count": 27,
      "metadata": {
        "collapsed": false,
        "outputHidden": false,
        "inputHidden": false
      }
    },
    {
      "cell_type": "code",
      "source": [
        "nid[nid.DAM_NAME == 'RED MUCK LAKE #4']"
      ],
      "outputs": [
        {
          "output_type": "execute_result",
          "execution_count": 33,
          "data": {
            "text/plain": [
              "       RECORDID          DAM_NAME  LONGITUDE   LATITUDE    COUNTY      CITY  \\\n",
              "29709     30809  RED MUCK LAKE #4     -90.25  30.191667  ST JAMES  MT. AIRY   \n",
              "\n",
              "      STATE OWNER_NAME OWNER_TYPE PRIVATE_DAM DAM_TYPE PURPOSES  \\\n",
              "29709    LA     KAISER          P           N      NaN        T   \n",
              "\n",
              "       NID_HEIGHT_ft  SURFACE_AREA  \n",
              "29709           26.0           0.0  "
            ],
            "text/html": [
              "<div>\n",
              "<style>\n",
              "    .dataframe thead tr:only-child th {\n",
              "        text-align: right;\n",
              "    }\n",
              "\n",
              "    .dataframe thead th {\n",
              "        text-align: left;\n",
              "    }\n",
              "\n",
              "    .dataframe tbody tr th {\n",
              "        vertical-align: top;\n",
              "    }\n",
              "</style>\n",
              "<table border=\"1\" class=\"dataframe\">\n",
              "  <thead>\n",
              "    <tr style=\"text-align: right;\">\n",
              "      <th></th>\n",
              "      <th>RECORDID</th>\n",
              "      <th>DAM_NAME</th>\n",
              "      <th>LONGITUDE</th>\n",
              "      <th>LATITUDE</th>\n",
              "      <th>COUNTY</th>\n",
              "      <th>CITY</th>\n",
              "      <th>STATE</th>\n",
              "      <th>OWNER_NAME</th>\n",
              "      <th>OWNER_TYPE</th>\n",
              "      <th>PRIVATE_DAM</th>\n",
              "      <th>DAM_TYPE</th>\n",
              "      <th>PURPOSES</th>\n",
              "      <th>NID_HEIGHT_ft</th>\n",
              "      <th>SURFACE_AREA</th>\n",
              "    </tr>\n",
              "  </thead>\n",
              "  <tbody>\n",
              "    <tr>\n",
              "      <th>29709</th>\n",
              "      <td>30809</td>\n",
              "      <td>RED MUCK LAKE #4</td>\n",
              "      <td>-90.25</td>\n",
              "      <td>30.191667</td>\n",
              "      <td>ST JAMES</td>\n",
              "      <td>MT. AIRY</td>\n",
              "      <td>LA</td>\n",
              "      <td>KAISER</td>\n",
              "      <td>P</td>\n",
              "      <td>N</td>\n",
              "      <td>NaN</td>\n",
              "      <td>T</td>\n",
              "      <td>26.0</td>\n",
              "      <td>0.0</td>\n",
              "    </tr>\n",
              "  </tbody>\n",
              "</table>\n",
              "</div>"
            ]
          },
          "metadata": {}
        }
      ],
      "execution_count": 33,
      "metadata": {
        "collapsed": false,
        "outputHidden": false,
        "inputHidden": false
      }
    },
    {
      "cell_type": "code",
      "source": [
        "nid[nid.DAM_NAME == 'STRUCTURE 191']"
      ],
      "outputs": [
        {
          "output_type": "execute_result",
          "execution_count": 37,
          "data": {
            "text/plain": [
              "      RECORDID       DAM_NAME  LONGITUDE   LATITUDE      COUNTY          CITY  \\\n",
              "8604      6743  STRUCTURE 191 -80.760002  27.190001  OKEECHOBEE  TAYLOR CREEK   \n",
              "\n",
              "     STATE             OWNER_NAME OWNER_TYPE PRIVATE_DAM DAM_TYPE PURPOSES  \\\n",
              "8604    FL  SFWMD (PAST C&SF FCD)          S           N       OT       CS   \n",
              "\n",
              "      NID_HEIGHT_ft  SURFACE_AREA  \n",
              "8604           50.0           0.0  "
            ],
            "text/html": [
              "<div>\n",
              "<style>\n",
              "    .dataframe thead tr:only-child th {\n",
              "        text-align: right;\n",
              "    }\n",
              "\n",
              "    .dataframe thead th {\n",
              "        text-align: left;\n",
              "    }\n",
              "\n",
              "    .dataframe tbody tr th {\n",
              "        vertical-align: top;\n",
              "    }\n",
              "</style>\n",
              "<table border=\"1\" class=\"dataframe\">\n",
              "  <thead>\n",
              "    <tr style=\"text-align: right;\">\n",
              "      <th></th>\n",
              "      <th>RECORDID</th>\n",
              "      <th>DAM_NAME</th>\n",
              "      <th>LONGITUDE</th>\n",
              "      <th>LATITUDE</th>\n",
              "      <th>COUNTY</th>\n",
              "      <th>CITY</th>\n",
              "      <th>STATE</th>\n",
              "      <th>OWNER_NAME</th>\n",
              "      <th>OWNER_TYPE</th>\n",
              "      <th>PRIVATE_DAM</th>\n",
              "      <th>DAM_TYPE</th>\n",
              "      <th>PURPOSES</th>\n",
              "      <th>NID_HEIGHT_ft</th>\n",
              "      <th>SURFACE_AREA</th>\n",
              "    </tr>\n",
              "  </thead>\n",
              "  <tbody>\n",
              "    <tr>\n",
              "      <th>8604</th>\n",
              "      <td>6743</td>\n",
              "      <td>STRUCTURE 191</td>\n",
              "      <td>-80.760002</td>\n",
              "      <td>27.190001</td>\n",
              "      <td>OKEECHOBEE</td>\n",
              "      <td>TAYLOR CREEK</td>\n",
              "      <td>FL</td>\n",
              "      <td>SFWMD (PAST C&amp;SF FCD)</td>\n",
              "      <td>S</td>\n",
              "      <td>N</td>\n",
              "      <td>OT</td>\n",
              "      <td>CS</td>\n",
              "      <td>50.0</td>\n",
              "      <td>0.0</td>\n",
              "    </tr>\n",
              "  </tbody>\n",
              "</table>\n",
              "</div>"
            ]
          },
          "metadata": {}
        }
      ],
      "execution_count": 37,
      "metadata": {
        "collapsed": false,
        "outputHidden": false,
        "inputHidden": false
      }
    },
    {
      "cell_type": "code",
      "source": [
        "nid[nid.DAM_NAME == 'LAKE TAHOE']"
      ],
      "outputs": [
        {
          "output_type": "execute_result",
          "execution_count": 36,
          "data": {
            "text/plain": [
              "      RECORDID    DAM_NAME  LONGITUDE  LATITUDE  COUNTY     CITY STATE  \\\n",
              "4537      3812  LAKE TAHOE   -120.144   39.1671  PLACER  TRUCKEE    CA   \n",
              "\n",
              "       OWNER_NAME OWNER_TYPE PRIVATE_DAM DAM_TYPE PURPOSES  NID_HEIGHT_ft  \\\n",
              "4537  RECLAMATION          F           N   CBCNOT        I           18.0   \n",
              "\n",
              "      SURFACE_AREA  \n",
              "4537      120000.0  "
            ],
            "text/html": [
              "<div>\n",
              "<style>\n",
              "    .dataframe thead tr:only-child th {\n",
              "        text-align: right;\n",
              "    }\n",
              "\n",
              "    .dataframe thead th {\n",
              "        text-align: left;\n",
              "    }\n",
              "\n",
              "    .dataframe tbody tr th {\n",
              "        vertical-align: top;\n",
              "    }\n",
              "</style>\n",
              "<table border=\"1\" class=\"dataframe\">\n",
              "  <thead>\n",
              "    <tr style=\"text-align: right;\">\n",
              "      <th></th>\n",
              "      <th>RECORDID</th>\n",
              "      <th>DAM_NAME</th>\n",
              "      <th>LONGITUDE</th>\n",
              "      <th>LATITUDE</th>\n",
              "      <th>COUNTY</th>\n",
              "      <th>CITY</th>\n",
              "      <th>STATE</th>\n",
              "      <th>OWNER_NAME</th>\n",
              "      <th>OWNER_TYPE</th>\n",
              "      <th>PRIVATE_DAM</th>\n",
              "      <th>DAM_TYPE</th>\n",
              "      <th>PURPOSES</th>\n",
              "      <th>NID_HEIGHT_ft</th>\n",
              "      <th>SURFACE_AREA</th>\n",
              "    </tr>\n",
              "  </thead>\n",
              "  <tbody>\n",
              "    <tr>\n",
              "      <th>4537</th>\n",
              "      <td>3812</td>\n",
              "      <td>LAKE TAHOE</td>\n",
              "      <td>-120.144</td>\n",
              "      <td>39.1671</td>\n",
              "      <td>PLACER</td>\n",
              "      <td>TRUCKEE</td>\n",
              "      <td>CA</td>\n",
              "      <td>RECLAMATION</td>\n",
              "      <td>F</td>\n",
              "      <td>N</td>\n",
              "      <td>CBCNOT</td>\n",
              "      <td>I</td>\n",
              "      <td>18.0</td>\n",
              "      <td>120000.0</td>\n",
              "    </tr>\n",
              "  </tbody>\n",
              "</table>\n",
              "</div>"
            ]
          },
          "metadata": {}
        }
      ],
      "execution_count": 36,
      "metadata": {
        "collapsed": false,
        "outputHidden": false,
        "inputHidden": false
      }
    },
    {
      "cell_type": "code",
      "source": [],
      "outputs": [],
      "execution_count": null,
      "metadata": {
        "collapsed": false,
        "outputHidden": false,
        "inputHidden": false
      }
    }
  ],
  "metadata": {
    "kernelspec": {
      "name": "python3",
      "language": "python",
      "display_name": "Python 3"
    },
    "kernel_info": {
      "name": "python3"
    },
    "language_info": {
      "name": "python",
      "version": "3.6.1",
      "mimetype": "text/x-python",
      "codemirror_mode": {
        "name": "ipython",
        "version": 3
      },
      "pygments_lexer": "ipython3",
      "nbconvert_exporter": "python",
      "file_extension": ".py"
    }
  },
  "nbformat": 4,
  "nbformat_minor": 4
}