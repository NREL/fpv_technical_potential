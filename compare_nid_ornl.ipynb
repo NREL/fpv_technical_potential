{
  "cells": [
    {
      "cell_type": "code",
      "source": [
        "cd /Volumes/LaCie/FPV_GIS/waterbodies"
      ],
      "outputs": [
        {
          "output_type": "stream",
          "name": "stdout",
          "text": [
            "/Volumes/LaCie/FPV_GIS/waterbodies\n"
          ]
        }
      ],
      "execution_count": 1,
      "metadata": {
        "collapsed": false,
        "outputHidden": false,
        "inputHidden": false
      }
    },
    {
      "cell_type": "code",
      "source": [
        "ls"
      ],
      "outputs": [
        {
          "output_type": "stream",
          "name": "stdout",
          "text": [
            "NHD_H_Alabama_Shape.zip\r\n",
            "NHD_H_Arizona_Shape.zip\r\n",
            "NHD_H_Arkansas_Shape.zip\r\n",
            "NHD_H_California_Shape.zip\r\n",
            "NHD_H_Colorado_Shape.zip\r\n",
            "NHD_H_Connecticut_Shape.zip\r\n",
            "NHD_H_Delaware_Shape.zip\r\n",
            "NHD_H_District_of_Columbia_Shape.zip\r\n",
            "NHD_H_Florida_Shape.zip\r\n",
            "NHD_H_Georgia_Shape.zip\r\n",
            "NHD_H_Idaho_Shape.zip\r\n",
            "NHD_H_Illinois_Shape.zip\r\n",
            "NHD_H_Indiana_Shape.zip\r\n",
            "NHD_H_Iowa_Shape.zip\r\n",
            "NHD_H_Kansas_Shape.zip\r\n",
            "NHD_H_Kentucky_Shape.zip\r\n",
            "NHD_H_Louisiana_Shape.zip\r\n",
            "NHD_H_Maine_Shape.zip\r\n",
            "NHD_H_Maryland_Shape.zip\r\n",
            "NHD_H_Massachusetts_Shape.zip\r\n",
            "NHD_H_Michigan_Shape.zip\r\n",
            "NHD_H_Minnesota_Shape.zip\r\n",
            "NHD_H_Mississippi_Shape.zip\r\n",
            "NHD_H_Missouri_Shape.zip\r\n",
            "NHD_H_Montana_Shape.zip\r\n",
            "NHD_H_Nebraska_Shape.zip\r\n",
            "NHD_H_Nevada_Shape.zip\r\n",
            "NHD_H_New_Hampshire_Shape.zip\r\n",
            "NHD_H_New_Jersey_Shape.zip\r\n",
            "NHD_H_New_Mexico_Shape.zip\r\n",
            "NHD_H_New_York_Shape.zip\r\n",
            "NHD_H_North_Carolina_Shape.zip\r\n",
            "NHD_H_North_Dakota_Shape.zip\r\n",
            "NHD_H_Ohio_Shape.zip\r\n",
            "NHD_H_Oklahoma_Shape.zip\r\n",
            "NHD_H_Oregon_Shape.zip\r\n",
            "NHD_H_Pennsylvania_Shape.zip\r\n",
            "NHD_H_Rhode_Island_Shape.zip\r\n",
            "NHD_H_South_Carolina_Shape.zip\r\n",
            "NHD_H_South_Dakota_Shape.zip\r\n",
            "NHD_H_Tennessee_Shape.zip\r\n",
            "NHD_H_Texas_Shape.zip\r\n",
            "NHD_H_Utah_Shape.zip\r\n",
            "NHD_H_Vermont_Shape.zip\r\n",
            "NHD_H_Virginia_Shape.zip\r\n",
            "NHD_H_Washington_Shape.zip\r\n",
            "NHD_H_West_Virginia_Shape.zip\r\n",
            "NHD_H_Wisconsin_Shape.zip\r\n",
            "NHD_H_Wyoming_Shape.zip\r\n",
            "NID2016.csv\r\n",
            "NID2016.dbf\r\n",
            "NID2016.prj\r\n",
            "NID2016.qpj\r\n",
            "NID2016.shp\r\n",
            "NID2016.shx\r\n",
            "NID2016.xlsx\r\n",
            "compare_nid_ornl.ipynb\r\n",
            "hydro.csv\r\n",
            "hydro_results.csv\r\n",
            "hydro_states.csv\r\n",
            "hydro_states.dbf\r\n",
            "hydro_states.prj\r\n",
            "hydro_states.qpj\r\n",
            "hydro_states.shp\r\n",
            "hydro_states.shx\r\n",
            "hydro_states_v2.csv\r\n",
            "nid.csv\r\n",
            "nid_QA_check.xlsx\r\n",
            "ornl.csv\r\n",
            "usa_waterbodies_gt_1acre_centroids_nid.dbf\r\n",
            "usa_waterbodies_gt_1acre_centroids_nid.prj\r\n",
            "usa_waterbodies_gt_1acre_centroids_nid.qpj\r\n",
            "usa_waterbodies_gt_1acre_centroids_nid.shp\r\n",
            "usa_waterbodies_gt_1acre_centroids_nid.shx\r\n",
            "usa_waterbodies_gt_1acre_simple.dbf\r\n",
            "usa_waterbodies_gt_1acre_simple.prj\r\n",
            "usa_waterbodies_gt_1acre_simple.qpj\r\n",
            "usa_waterbodies_gt_1acre_simple.shp\r\n",
            "usa_waterbodies_gt_1acre_simple.shx\r\n",
            "usa_waterbodies_gt_1acre_simple_nid.dbf\r\n",
            "usa_waterbodies_gt_1acre_simple_nid.prj\r\n",
            "usa_waterbodies_gt_1acre_simple_nid.qpj\r\n",
            "usa_waterbodies_gt_1acre_simple_nid.shp\r\n",
            "usa_waterbodies_gt_1acre_simple_nid.shx\r\n",
            "usa_waterbodies_gt_2acres.dbf\r\n",
            "usa_waterbodies_gt_2acres.prj\r\n",
            "usa_waterbodies_gt_2acres.qpj\r\n",
            "usa_waterbodies_gt_2acres.shp\r\n",
            "usa_waterbodies_gt_2acres.shx\r\n",
            "usa_waterbodies_manmade_temp1.dbf\r\n",
            "usa_waterbodies_manmade_temp1.prj\r\n",
            "usa_waterbodies_manmade_temp1.qpj\r\n",
            "usa_waterbodies_manmade_temp1.shp\r\n",
            "usa_waterbodies_manmade_temp1.shx\r\n",
            "usa_waterbodies_natural_temp1.dbf\r\n",
            "usa_waterbodies_natural_temp1.prj\r\n",
            "usa_waterbodies_natural_temp1.qpj\r\n",
            "usa_waterbodies_natural_temp1.shp\r\n",
            "usa_waterbodies_natural_temp1.shx\r\n",
            "utah_waterbodies_simple.dbf\r\n",
            "utah_waterbodies_simple.prj\r\n",
            "utah_waterbodies_simple.qpj\r\n",
            "utah_waterbodies_simple.shp\r\n",
            "utah_waterbodies_simple.shx\r\n"
          ]
        }
      ],
      "execution_count": 4,
      "metadata": {
        "collapsed": false,
        "outputHidden": false,
        "inputHidden": false
      }
    },
    {
      "cell_type": "code",
      "source": [
        "import pandas as pd"
      ],
      "outputs": [],
      "execution_count": 5,
      "metadata": {
        "collapsed": false,
        "outputHidden": false,
        "inputHidden": false
      }
    },
    {
      "cell_type": "code",
      "source": [
        "nid = pd.read_csv(\"nid.csv\", encoding = \"ISO-8859-1\")\n",
        "nid['PURPOSES'].fillna(\"NAN\", inplace=True)\n",
        "mask = nid['PURPOSES'].str.contains('H')\n",
        "nid = nid[mask]\n",
        "nid.head(1)"
      ],
      "outputs": [
        {
          "output_type": "execute_result",
          "execution_count": 14,
          "data": {
            "text/plain": [
              "   RECORDID     DAM_NAME  LONGITUDE  LATITUDE                 COUNTY  \\\n",
              "1        12  MAHOONA DAM  -152.4819   57.9232  KODIAK ISLAND BOROUGH   \n",
              "\n",
              "       CITY STATE                OWNER_NAME OWNER_TYPE PRIVATE_DAM DAM_TYPE  \\\n",
              "1  OUZINKIE    AK  FOCUS ENERGY CORPORATION          P           N       OT   \n",
              "\n",
              "  PURPOSES  NID_HEIGHT_ft  SURFACE_AREA  \n",
              "1        H           13.0          42.0  "
            ],
            "text/html": [
              "<div>\n",
              "<style>\n",
              "    .dataframe thead tr:only-child th {\n",
              "        text-align: right;\n",
              "    }\n",
              "\n",
              "    .dataframe thead th {\n",
              "        text-align: left;\n",
              "    }\n",
              "\n",
              "    .dataframe tbody tr th {\n",
              "        vertical-align: top;\n",
              "    }\n",
              "</style>\n",
              "<table border=\"1\" class=\"dataframe\">\n",
              "  <thead>\n",
              "    <tr style=\"text-align: right;\">\n",
              "      <th></th>\n",
              "      <th>RECORDID</th>\n",
              "      <th>DAM_NAME</th>\n",
              "      <th>LONGITUDE</th>\n",
              "      <th>LATITUDE</th>\n",
              "      <th>COUNTY</th>\n",
              "      <th>CITY</th>\n",
              "      <th>STATE</th>\n",
              "      <th>OWNER_NAME</th>\n",
              "      <th>OWNER_TYPE</th>\n",
              "      <th>PRIVATE_DAM</th>\n",
              "      <th>DAM_TYPE</th>\n",
              "      <th>PURPOSES</th>\n",
              "      <th>NID_HEIGHT_ft</th>\n",
              "      <th>SURFACE_AREA</th>\n",
              "    </tr>\n",
              "  </thead>\n",
              "  <tbody>\n",
              "    <tr>\n",
              "      <th>1</th>\n",
              "      <td>12</td>\n",
              "      <td>MAHOONA DAM</td>\n",
              "      <td>-152.4819</td>\n",
              "      <td>57.9232</td>\n",
              "      <td>KODIAK ISLAND BOROUGH</td>\n",
              "      <td>OUZINKIE</td>\n",
              "      <td>AK</td>\n",
              "      <td>FOCUS ENERGY CORPORATION</td>\n",
              "      <td>P</td>\n",
              "      <td>N</td>\n",
              "      <td>OT</td>\n",
              "      <td>H</td>\n",
              "      <td>13.0</td>\n",
              "      <td>42.0</td>\n",
              "    </tr>\n",
              "  </tbody>\n",
              "</table>\n",
              "</div>"
            ]
          },
          "metadata": {}
        }
      ],
      "execution_count": 14,
      "metadata": {
        "collapsed": false,
        "outputHidden": false,
        "inputHidden": false
      }
    },
    {
      "cell_type": "code",
      "source": [
        "nid.shape"
      ],
      "outputs": [
        {
          "output_type": "execute_result",
          "execution_count": 16,
          "data": {
            "text/plain": [
              "(2650, 14)"
            ]
          },
          "metadata": {}
        }
      ],
      "execution_count": 16,
      "metadata": {
        "collapsed": false,
        "outputHidden": false,
        "inputHidden": false
      }
    },
    {
      "cell_type": "code",
      "source": [
        "ornl = pd.read_csv(\"ornl.csv\", encoding = \"ISO-8859-1\")\n",
        "ornl.head(1)"
      ],
      "outputs": [
        {
          "output_type": "execute_result",
          "execution_count": 17,
          "data": {
            "text/plain": [
              "     PlantID PlantName   Latitude   Longitude  Ownership  Type EIA_PtID  \\\n",
              "0  hc0001p01    Alcova  42.548412 -106.717536        4.0   1.0     6409   \n",
              "\n",
              "  FcDocket FcIssue FcExpire  HY_MW      HY_CF   PS_MW   PS_CF  N_Gen  \\\n",
              "0      NaN  (null)   (null)   41.4  26.474749 -9999.0 -9999.0    2.0   \n",
              "\n",
              "  Yr_Online   NID_ID       HUC08 State  \n",
              "0      1955  WY01290  10180007.0    WY  "
            ],
            "text/html": [
              "<div>\n",
              "<style>\n",
              "    .dataframe thead tr:only-child th {\n",
              "        text-align: right;\n",
              "    }\n",
              "\n",
              "    .dataframe thead th {\n",
              "        text-align: left;\n",
              "    }\n",
              "\n",
              "    .dataframe tbody tr th {\n",
              "        vertical-align: top;\n",
              "    }\n",
              "</style>\n",
              "<table border=\"1\" class=\"dataframe\">\n",
              "  <thead>\n",
              "    <tr style=\"text-align: right;\">\n",
              "      <th></th>\n",
              "      <th>PlantID</th>\n",
              "      <th>PlantName</th>\n",
              "      <th>Latitude</th>\n",
              "      <th>Longitude</th>\n",
              "      <th>Ownership</th>\n",
              "      <th>Type</th>\n",
              "      <th>EIA_PtID</th>\n",
              "      <th>FcDocket</th>\n",
              "      <th>FcIssue</th>\n",
              "      <th>FcExpire</th>\n",
              "      <th>HY_MW</th>\n",
              "      <th>HY_CF</th>\n",
              "      <th>PS_MW</th>\n",
              "      <th>PS_CF</th>\n",
              "      <th>N_Gen</th>\n",
              "      <th>Yr_Online</th>\n",
              "      <th>NID_ID</th>\n",
              "      <th>HUC08</th>\n",
              "      <th>State</th>\n",
              "    </tr>\n",
              "  </thead>\n",
              "  <tbody>\n",
              "    <tr>\n",
              "      <th>0</th>\n",
              "      <td>hc0001p01</td>\n",
              "      <td>Alcova</td>\n",
              "      <td>42.548412</td>\n",
              "      <td>-106.717536</td>\n",
              "      <td>4.0</td>\n",
              "      <td>1.0</td>\n",
              "      <td>6409</td>\n",
              "      <td>NaN</td>\n",
              "      <td>(null)</td>\n",
              "      <td>(null)</td>\n",
              "      <td>41.4</td>\n",
              "      <td>26.474749</td>\n",
              "      <td>-9999.0</td>\n",
              "      <td>-9999.0</td>\n",
              "      <td>2.0</td>\n",
              "      <td>1955</td>\n",
              "      <td>WY01290</td>\n",
              "      <td>10180007.0</td>\n",
              "      <td>WY</td>\n",
              "    </tr>\n",
              "  </tbody>\n",
              "</table>\n",
              "</div>"
            ]
          },
          "metadata": {}
        }
      ],
      "execution_count": 17,
      "metadata": {
        "collapsed": false,
        "outputHidden": false,
        "inputHidden": false
      }
    },
    {
      "cell_type": "code",
      "source": [
        "ornl.shape"
      ],
      "outputs": [
        {
          "output_type": "execute_result",
          "execution_count": 18,
          "data": {
            "text/plain": [
              "(2401, 19)"
            ]
          },
          "metadata": {}
        }
      ],
      "execution_count": 18,
      "metadata": {
        "collapsed": false,
        "outputHidden": false,
        "inputHidden": false
      }
    },
    {
      "cell_type": "code",
      "source": [
        "nid_AZ = nid[nid.STATE == \"AZ\"]\n",
        "ornl_AZ = ornl[ornl.State == \"AZ\"]"
      ],
      "outputs": [],
      "execution_count": 20,
      "metadata": {
        "collapsed": false,
        "outputHidden": false,
        "inputHidden": false
      }
    },
    {
      "cell_type": "code",
      "source": [
        "nid_AZ.shape[0], ornl_AZ.shape[0]"
      ],
      "outputs": [
        {
          "output_type": "execute_result",
          "execution_count": 22,
          "data": {
            "text/plain": [
              "(9, 13)"
            ]
          },
          "metadata": {}
        }
      ],
      "execution_count": 22,
      "metadata": {
        "collapsed": false,
        "outputHidden": false,
        "inputHidden": false
      }
    },
    {
      "cell_type": "code",
      "source": [
        "nid_AZ[['DAM_NAME','LATITUDE','LONGITUDE']].sort_values(\"DAM_NAME\").iloc[[6]]"
      ],
      "outputs": [
        {
          "output_type": "execute_result",
          "execution_count": 58,
          "data": {
            "text/plain": [
              "     DAM_NAME  LATITUDE  LONGITUDE\n",
              "3823   PARKER   34.2966  -114.1392"
            ],
            "text/html": [
              "<div>\n",
              "<style>\n",
              "    .dataframe thead tr:only-child th {\n",
              "        text-align: right;\n",
              "    }\n",
              "\n",
              "    .dataframe thead th {\n",
              "        text-align: left;\n",
              "    }\n",
              "\n",
              "    .dataframe tbody tr th {\n",
              "        vertical-align: top;\n",
              "    }\n",
              "</style>\n",
              "<table border=\"1\" class=\"dataframe\">\n",
              "  <thead>\n",
              "    <tr style=\"text-align: right;\">\n",
              "      <th></th>\n",
              "      <th>DAM_NAME</th>\n",
              "      <th>LATITUDE</th>\n",
              "      <th>LONGITUDE</th>\n",
              "    </tr>\n",
              "  </thead>\n",
              "  <tbody>\n",
              "    <tr>\n",
              "      <th>3823</th>\n",
              "      <td>PARKER</td>\n",
              "      <td>34.2966</td>\n",
              "      <td>-114.1392</td>\n",
              "    </tr>\n",
              "  </tbody>\n",
              "</table>\n",
              "</div>"
            ]
          },
          "metadata": {}
        }
      ],
      "execution_count": 58,
      "metadata": {
        "collapsed": false,
        "outputHidden": false,
        "inputHidden": false
      }
    },
    {
      "cell_type": "code",
      "source": [
        "ornl_AZ[['PlantName','Latitude','Longitude','HY_MW']].sort_values(\"PlantName\").iloc[[0,2,5,9,10]]"
      ],
      "outputs": [
        {
          "output_type": "execute_result",
          "execution_count": 60,
          "data": {
            "text/plain": [
              "                             PlantName   Latitude   Longitude    HY_MW\n",
              "134           Arizona Falls Powerplant  33.489875 -111.959097   0.7500\n",
              "70                            Crosscut  33.439188 -111.945885   3.0000\n",
              "1713                     Headgate Rock  34.168789 -114.276822  19.5000\n",
              "71                  South Consolidated  33.466463 -111.781074   1.4000\n",
              "2215  South Extension Canal Powerhouse  33.362393 -112.538708   0.0096"
            ],
            "text/html": [
              "<div>\n",
              "<style>\n",
              "    .dataframe thead tr:only-child th {\n",
              "        text-align: right;\n",
              "    }\n",
              "\n",
              "    .dataframe thead th {\n",
              "        text-align: left;\n",
              "    }\n",
              "\n",
              "    .dataframe tbody tr th {\n",
              "        vertical-align: top;\n",
              "    }\n",
              "</style>\n",
              "<table border=\"1\" class=\"dataframe\">\n",
              "  <thead>\n",
              "    <tr style=\"text-align: right;\">\n",
              "      <th></th>\n",
              "      <th>PlantName</th>\n",
              "      <th>Latitude</th>\n",
              "      <th>Longitude</th>\n",
              "      <th>HY_MW</th>\n",
              "    </tr>\n",
              "  </thead>\n",
              "  <tbody>\n",
              "    <tr>\n",
              "      <th>134</th>\n",
              "      <td>Arizona Falls Powerplant</td>\n",
              "      <td>33.489875</td>\n",
              "      <td>-111.959097</td>\n",
              "      <td>0.7500</td>\n",
              "    </tr>\n",
              "    <tr>\n",
              "      <th>70</th>\n",
              "      <td>Crosscut</td>\n",
              "      <td>33.439188</td>\n",
              "      <td>-111.945885</td>\n",
              "      <td>3.0000</td>\n",
              "    </tr>\n",
              "    <tr>\n",
              "      <th>1713</th>\n",
              "      <td>Headgate Rock</td>\n",
              "      <td>34.168789</td>\n",
              "      <td>-114.276822</td>\n",
              "      <td>19.5000</td>\n",
              "    </tr>\n",
              "    <tr>\n",
              "      <th>71</th>\n",
              "      <td>South Consolidated</td>\n",
              "      <td>33.466463</td>\n",
              "      <td>-111.781074</td>\n",
              "      <td>1.4000</td>\n",
              "    </tr>\n",
              "    <tr>\n",
              "      <th>2215</th>\n",
              "      <td>South Extension Canal Powerhouse</td>\n",
              "      <td>33.362393</td>\n",
              "      <td>-112.538708</td>\n",
              "      <td>0.0096</td>\n",
              "    </tr>\n",
              "  </tbody>\n",
              "</table>\n",
              "</div>"
            ]
          },
          "metadata": {}
        }
      ],
      "execution_count": 60,
      "metadata": {
        "collapsed": false,
        "outputHidden": false,
        "inputHidden": false
      }
    },
    {
      "cell_type": "code",
      "source": [
        "ornl_AZ[['PlantName','Latitude','Longitude','HY_MW']].sort_values(\"PlantName\").iloc[[1,3,4,6,7,8,11,12]]"
      ],
      "outputs": [
        {
          "output_type": "execute_result",
          "execution_count": 62,
          "data": {
            "text/plain": [
              "                           PlantName   Latitude   Longitude   HY_MW\n",
              "153  C.C. Craigin Dam and Powerplant  34.554400 -111.183800     3.0\n",
              "13                         Davis Dam  35.197044 -114.570669   254.8\n",
              "21                   Glen Canyon Dam  36.936614 -111.483872  1312.0\n",
              "65                        Horse Mesa  33.590552 -111.343907    29.7\n",
              "66                       Mormon Flat  33.553560 -111.442849     9.2\n",
              "72                         Roosevelt  33.671361 -111.160765    36.0\n",
              "73                  Stewart Mountain  33.566909 -111.534683    13.0\n",
              "67                           Waddell  33.846400 -112.266300 -9999.0"
            ],
            "text/html": [
              "<div>\n",
              "<style>\n",
              "    .dataframe thead tr:only-child th {\n",
              "        text-align: right;\n",
              "    }\n",
              "\n",
              "    .dataframe thead th {\n",
              "        text-align: left;\n",
              "    }\n",
              "\n",
              "    .dataframe tbody tr th {\n",
              "        vertical-align: top;\n",
              "    }\n",
              "</style>\n",
              "<table border=\"1\" class=\"dataframe\">\n",
              "  <thead>\n",
              "    <tr style=\"text-align: right;\">\n",
              "      <th></th>\n",
              "      <th>PlantName</th>\n",
              "      <th>Latitude</th>\n",
              "      <th>Longitude</th>\n",
              "      <th>HY_MW</th>\n",
              "    </tr>\n",
              "  </thead>\n",
              "  <tbody>\n",
              "    <tr>\n",
              "      <th>153</th>\n",
              "      <td>C.C. Craigin Dam and Powerplant</td>\n",
              "      <td>34.554400</td>\n",
              "      <td>-111.183800</td>\n",
              "      <td>3.0</td>\n",
              "    </tr>\n",
              "    <tr>\n",
              "      <th>13</th>\n",
              "      <td>Davis Dam</td>\n",
              "      <td>35.197044</td>\n",
              "      <td>-114.570669</td>\n",
              "      <td>254.8</td>\n",
              "    </tr>\n",
              "    <tr>\n",
              "      <th>21</th>\n",
              "      <td>Glen Canyon Dam</td>\n",
              "      <td>36.936614</td>\n",
              "      <td>-111.483872</td>\n",
              "      <td>1312.0</td>\n",
              "    </tr>\n",
              "    <tr>\n",
              "      <th>65</th>\n",
              "      <td>Horse Mesa</td>\n",
              "      <td>33.590552</td>\n",
              "      <td>-111.343907</td>\n",
              "      <td>29.7</td>\n",
              "    </tr>\n",
              "    <tr>\n",
              "      <th>66</th>\n",
              "      <td>Mormon Flat</td>\n",
              "      <td>33.553560</td>\n",
              "      <td>-111.442849</td>\n",
              "      <td>9.2</td>\n",
              "    </tr>\n",
              "    <tr>\n",
              "      <th>72</th>\n",
              "      <td>Roosevelt</td>\n",
              "      <td>33.671361</td>\n",
              "      <td>-111.160765</td>\n",
              "      <td>36.0</td>\n",
              "    </tr>\n",
              "    <tr>\n",
              "      <th>73</th>\n",
              "      <td>Stewart Mountain</td>\n",
              "      <td>33.566909</td>\n",
              "      <td>-111.534683</td>\n",
              "      <td>13.0</td>\n",
              "    </tr>\n",
              "    <tr>\n",
              "      <th>67</th>\n",
              "      <td>Waddell</td>\n",
              "      <td>33.846400</td>\n",
              "      <td>-112.266300</td>\n",
              "      <td>-9999.0</td>\n",
              "    </tr>\n",
              "  </tbody>\n",
              "</table>\n",
              "</div>"
            ]
          },
          "metadata": {}
        }
      ],
      "execution_count": 62,
      "metadata": {
        "collapsed": false,
        "outputHidden": false,
        "inputHidden": false
      }
    },
    {
      "cell_type": "code",
      "source": [],
      "outputs": [],
      "execution_count": null,
      "metadata": {
        "collapsed": false,
        "outputHidden": false,
        "inputHidden": false
      }
    }
  ],
  "metadata": {
    "kernelspec": {
      "name": "python3",
      "language": "python",
      "display_name": "Python 3"
    },
    "kernel_info": {
      "name": "python3"
    },
    "language_info": {
      "name": "python",
      "version": "3.6.1",
      "mimetype": "text/x-python",
      "codemirror_mode": {
        "name": "ipython",
        "version": 3
      },
      "pygments_lexer": "ipython3",
      "nbconvert_exporter": "python",
      "file_extension": ".py"
    }
  },
  "nbformat": 4,
  "nbformat_minor": 4
}