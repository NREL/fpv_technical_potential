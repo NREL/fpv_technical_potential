{
  "cells": [
    {
      "cell_type": "code",
      "source": [
        "cd /Volumes/LaCie/FPV_GIS/Evaporation/stations/az"
      ],
      "outputs": [
        {
          "output_type": "stream",
          "name": "stdout",
          "text": [
            "/Volumes/LaCie/FPV_GIS/Evaporation/stations/az\n"
          ]
        }
      ],
      "execution_count": 172,
      "metadata": {
        "collapsed": false,
        "outputHidden": false,
        "inputHidden": false
      }
    },
    {
      "cell_type": "code",
      "source": [
        "ls"
      ],
      "outputs": [
        {
          "output_type": "stream",
          "name": "stdout",
          "text": [
            "\u001b[1m\u001b[31mAz020060.par\u001b[m\u001b[m*    \u001b[1m\u001b[31mAz022140.par\u001b[m\u001b[m*    \u001b[1m\u001b[31mAz025635.par\u001b[m\u001b[m*    \u001b[1m\u001b[31mAz028499.par\u001b[m\u001b[m*\r\n",
            "\u001b[1m\u001b[31mAz020080.par\u001b[m\u001b[m*    \u001b[1m\u001b[31mAz022664.par\u001b[m\u001b[m*    \u001b[1m\u001b[31mAz025700.par\u001b[m\u001b[m*    \u001b[1m\u001b[31mAz028619.par\u001b[m\u001b[m*\r\n",
            "\u001b[1m\u001b[31mAz020159.par\u001b[m\u001b[m*    \u001b[1m\u001b[31mAz022754.par\u001b[m\u001b[m*    \u001b[1m\u001b[31mAz025924.par\u001b[m\u001b[m*    \u001b[1m\u001b[31mAz028796.par\u001b[m\u001b[m*\r\n",
            "\u001b[1m\u001b[31mAz020750.par\u001b[m\u001b[m*    \u001b[1m\u001b[31mAz022807.par\u001b[m\u001b[m*    \u001b[1m\u001b[31mAz026119.par\u001b[m\u001b[m*    \u001b[1m\u001b[31mAz028800.par\u001b[m\u001b[m*\r\n",
            "\u001b[1m\u001b[31mAz020808.par\u001b[m\u001b[m*    \u001b[1m\u001b[31mAz023010.par\u001b[m\u001b[m*    \u001b[1m\u001b[31mAz026132.par\u001b[m\u001b[m*    \u001b[1m\u001b[31mAz028815.par\u001b[m\u001b[m*\r\n",
            "\u001b[1m\u001b[31mAz020949.par\u001b[m\u001b[m*    \u001b[1m\u001b[31mAz023027.par\u001b[m\u001b[m*    \u001b[1m\u001b[31mAz026250.par\u001b[m\u001b[m*    \u001b[1m\u001b[31mAz028820.par\u001b[m\u001b[m*\r\n",
            "\u001b[1m\u001b[31mAz020958.par\u001b[m\u001b[m*    \u001b[1m\u001b[31mAz023160.par\u001b[m\u001b[m*    \u001b[1m\u001b[31mAz026323.par\u001b[m\u001b[m*    \u001b[1m\u001b[31mAz028865.par\u001b[m\u001b[m*\r\n",
            "\u001b[1m\u001b[31mAz021001.par\u001b[m\u001b[m*    \u001b[1m\u001b[31mAz023303.par\u001b[m\u001b[m*    \u001b[1m\u001b[31mAz026468.par\u001b[m\u001b[m*    \u001b[1m\u001b[31mAz028895.par\u001b[m\u001b[m*\r\n",
            "\u001b[1m\u001b[31mAz021026.par\u001b[m\u001b[m*    \u001b[1m\u001b[31mAz023393.par\u001b[m\u001b[m*    \u001b[1m\u001b[31mAz026481.par\u001b[m\u001b[m*    \u001b[1m\u001b[31mAz029114.par\u001b[m\u001b[m*\r\n",
            "\u001b[1m\u001b[31mAz021231.par\u001b[m\u001b[m*    \u001b[1m\u001b[31mAz023961.par\u001b[m\u001b[m*    \u001b[1m\u001b[31mAz026796.par\u001b[m\u001b[m*    \u001b[1m\u001b[31mAz029158.par\u001b[m\u001b[m*\r\n",
            "\u001b[1m\u001b[31mAz021282.par\u001b[m\u001b[m*    \u001b[1m\u001b[31mAz024089.par\u001b[m\u001b[m*    \u001b[1m\u001b[31mAz027281.par\u001b[m\u001b[m*    \u001b[1m\u001b[31mAz029271.par\u001b[m\u001b[m*\r\n",
            "\u001b[1m\u001b[31mAz021306.par\u001b[m\u001b[m*    \u001b[1m\u001b[31mAz024418.par\u001b[m\u001b[m*    \u001b[1m\u001b[31mAz027390.par\u001b[m\u001b[m*    \u001b[1m\u001b[31mAz029287.par\u001b[m\u001b[m*\r\n",
            "\u001b[1m\u001b[31mAz021314.par\u001b[m\u001b[m*    \u001b[1m\u001b[31mAz024453.par\u001b[m\u001b[m*    \u001b[1m\u001b[31mAz027435.par\u001b[m\u001b[m*    \u001b[1m\u001b[31mAz029309.par\u001b[m\u001b[m*\r\n",
            "\u001b[1m\u001b[31mAz021330.par\u001b[m\u001b[m*    \u001b[1m\u001b[31mAz024586.par\u001b[m\u001b[m*    \u001b[1m\u001b[31mAz027480.par\u001b[m\u001b[m*    \u001b[1m\u001b[31mAz029334.par\u001b[m\u001b[m*\r\n",
            "\u001b[1m\u001b[31mAz021353.par\u001b[m\u001b[m*    \u001b[1m\u001b[31mAz024675.par\u001b[m\u001b[m*    \u001b[1m\u001b[31mAz027593.par\u001b[m\u001b[m*    \u001b[1m\u001b[31mAz029359.par\u001b[m\u001b[m*\r\n",
            "\u001b[1m\u001b[31mAz021514.par\u001b[m\u001b[m*    \u001b[1m\u001b[31mAz024686.par\u001b[m\u001b[m*    \u001b[1m\u001b[31mAz027619.par\u001b[m\u001b[m*    \u001b[1m\u001b[31mAz029410.par\u001b[m\u001b[m*\r\n",
            "\u001b[1m\u001b[31mAz021574.par\u001b[m\u001b[m*    \u001b[1m\u001b[31mAz024702.par\u001b[m\u001b[m*    \u001b[1m\u001b[31mAz027708.par\u001b[m\u001b[m*    \u001b[1m\u001b[31mAz029439.par\u001b[m\u001b[m*\r\n",
            "\u001b[1m\u001b[31mAz021614.par\u001b[m\u001b[m*    \u001b[1m\u001b[31mAz024829.par\u001b[m\u001b[m*    \u001b[1m\u001b[31mAz027716.par\u001b[m\u001b[m*    \u001b[1m\u001b[31mAz029542.par\u001b[m\u001b[m*\r\n",
            "\u001b[1m\u001b[31mAz021654.par\u001b[m\u001b[m*    \u001b[1m\u001b[31mAz024849.par\u001b[m\u001b[m*    \u001b[1m\u001b[31mAz028012.par\u001b[m\u001b[m*    \u001b[1m\u001b[31mAz029645.par\u001b[m\u001b[m*\r\n",
            "\u001b[1m\u001b[31mAz021664.par\u001b[m\u001b[m*    \u001b[1m\u001b[31mAz024977.par\u001b[m\u001b[m*    \u001b[1m\u001b[31mAz028162.par\u001b[m\u001b[m*    \u001b[1m\u001b[31mAz029652.par\u001b[m\u001b[m*\r\n",
            "\u001b[1m\u001b[31mAz021849.par\u001b[m\u001b[m*    \u001b[1m\u001b[31mAz025129.par\u001b[m\u001b[m*    \u001b[1m\u001b[31mAz028214.par\u001b[m\u001b[m*    \u001b[1m\u001b[31mAz029654.par\u001b[m\u001b[m*\r\n",
            "\u001b[1m\u001b[31mAz021920.par\u001b[m\u001b[m*    \u001b[1m\u001b[31mAz025412.par\u001b[m\u001b[m*    \u001b[1m\u001b[31mAz028348.par\u001b[m\u001b[m*    \u001b[1m\u001b[31mAz029660.par\u001b[m\u001b[m*\r\n",
            "\u001b[1m\u001b[31mAz022109.par\u001b[m\u001b[m*    \u001b[1m\u001b[31mAz025512.par\u001b[m\u001b[m*    \u001b[1m\u001b[31mAz028396.par\u001b[m\u001b[m*    \u001b[1m\u001b[31mazclimates.html\u001b[m\u001b[m*\r\n"
          ]
        }
      ],
      "execution_count": 173,
      "metadata": {
        "collapsed": false,
        "outputHidden": false,
        "inputHidden": false
      }
    },
    {
      "cell_type": "code",
      "source": [
        "import numpy as np\n",
        "import os\n",
        "import pandas as pd"
      ],
      "outputs": [],
      "execution_count": 174,
      "metadata": {
        "collapsed": false,
        "outputHidden": false,
        "inputHidden": false
      }
    },
    {
      "cell_type": "code",
      "source": [
        "with open (\"Az020060.par\", \"r\") as myfile:\n",
        "    data=myfile.readlines()\n",
        "data"
      ],
      "outputs": [
        {
          "output_type": "execute_result",
          "execution_count": 176,
          "data": {
            "text/plain": [
              "[' AGUILA AZ                                2  60 0\\n',\n",
              " ' LATT=  33.95 LONG=-113.18 YEARS= 64. TYPE= 3\\n',\n",
              " ' ELEVATION = 2180. TP5 = 1.65 TP6= 3.12\\n',\n",
              " ' MEAN P    .28   .33   .30   .23   .21   .14   .24   .35   .35   .31   .30   .30\\n',\n",
              " ' S DEV P   .34   .34   .42   .29   .24   .14   .28   .46   .47   .44   .38   .34\\n',\n",
              " ' SKEW  P  2.55  1.67  3.19  3.43  1.87  2.04  2.27  3.13  2.63  3.35  2.85  2.43\\n',\n",
              " ' P(W/W)    .36   .39   .33   .37   .18   .21   .26   .27   .30   .22   .27   .35\\n',\n",
              " ' P(W/D)    .07   .07   .07   .04   .01   .02   .09   .11   .05   .05   .05   .07\\n',\n",
              " ' TMAX AV 62.38 65.82 70.70 80.27 88.98 98.91102.64100.26 95.33 85.08 71.84 63.77\\n',\n",
              " ' TMIN AV 32.98 35.45 38.71 44.47 51.65 60.55 70.42 69.51 62.30 50.25 38.66 33.36\\n',\n",
              " ' SD TMAX  8.12  8.47  8.46  8.87  8.07  6.81  5.21  5.29  6.76  8.46  8.56  7.91\\n',\n",
              " ' SD TMIN  6.71  6.92  6.29  6.64  6.49  7.18  5.85  5.86  6.91  7.19  6.92  6.52\\n',\n",
              " ' SOL.RAD  286.  393.  517.  623.  696.  732.  661.  617.  560.  437.  333.  271.\\n',\n",
              " ' SD SOL   22.8  17.8  18.6  23.8  26.9  25.5  43.5  84.9  34.1  13.9  13.0  18.8\\n',\n",
              " ' MX .5 P   .25   .22   .27   .14   .38   .06   .69  1.04   .31   .26   .18   .27\\n',\n",
              " ' DEW PT  25.81 26.87 27.10 29.54 31.41 36.57 53.60 56.05 48.21 38.35 30.10 27.10\\n',\n",
              " 'Time Pk   .625  .727  .786  .850  .860  .866  .888  .901  .910  .945  .971 1.000\\n',\n",
              " '% N       7.76  8.37  6.57  4.66  4.38  3.50  3.84  4.87  6.46  6.99  8.17  7.95\\n',\n",
              " 'MEAN      3.09  3.59  3.56  3.30  3.24  2.92  2.93  2.63  2.76  2.84  3.11  3.29\\n',\n",
              " 'STD DEV   1.75  2.28  2.13  1.76  1.77  1.48  1.50  1.20  1.36  1.43  1.90  1.85\\n',\n",
              " 'SKEW      1.31  1.53  1.20  1.09   .94  1.21  1.09  1.06  1.17  1.20  2.00  1.48\\n',\n",
              " '% NNE     3.52  3.73  3.21  2.71  2.26  1.50  1.72  2.10  2.98  3.81  3.89  3.83\\n',\n",
              " 'MEAN      2.94  3.26  3.16  3.14  3.03  2.85  2.93  2.63  2.65  2.83  3.30  3.02\\n',\n",
              " 'STD DEV   1.58  1.93  1.65  1.54  1.52  1.16  1.19  1.04  1.03  1.27  1.93  1.65\\n',\n",
              " 'SKEW      1.23  1.47  1.32   .95  1.22   .59   .64  1.06   .66  1.29  1.20  1.39\\n',\n",
              " '% NE      5.86  6.01  5.31  4.60  3.82  2.97  3.32  3.85  5.55  6.78  7.10  6.29\\n',\n",
              " 'MEAN      2.56  2.44  2.56  2.78  2.58  2.48  2.79  2.59  2.63  2.54  2.81  2.54\\n',\n",
              " 'STD DEV   1.35  1.19  1.17  1.31  1.17  1.06  1.32  1.23  1.23  1.13  1.49  1.14\\n',\n",
              " 'SKEW      1.11  1.02   .95   .82   .88   .56   .84  1.41  1.06  1.03  1.29   .81\\n',\n",
              " '% ENE     2.68  2.24  1.81  1.85  1.37  1.08  1.35  1.79  2.77  3.05  2.74  2.40\\n',\n",
              " 'MEAN      2.50  2.56  2.67  2.95  2.91  2.86  3.11  2.77  2.90  2.74  2.93  2.68\\n',\n",
              " 'STD DEV   1.06  1.03  1.09  1.41  1.38  1.19  1.53  1.20  1.31  1.18  1.38  1.21\\n',\n",
              " 'SKEW       .67   .55   .92  1.01  1.21  1.03  1.53   .54   .56  1.07  1.08  1.08\\n',\n",
              " '% E       9.66  8.33  6.59  6.23  4.93  4.20  4.53  5.73  7.54  9.15  8.58 10.01\\n',\n",
              " 'MEAN      2.62  2.79  2.72  3.07  3.12  2.95  3.13  3.16  2.97  2.98  2.70  2.72\\n',\n",
              " 'STD DEV   1.14  1.20  1.22  1.41  1.42  1.47  1.55  1.51  1.37  1.47  1.32  1.21\\n',\n",
              " 'SKEW       .81   .61   .81   .69   .74   .79   .79   .84   .76   .90  1.04   .64\\n',\n",
              " '% ESE     2.92  2.38  2.01  2.50  2.53  2.41  2.81  3.04  3.38  3.46  2.62  3.02\\n',\n",
              " 'MEAN      3.04  3.25  3.26  3.61  3.66  3.51  3.46  3.47  3.42  3.42  3.22  3.13\\n',\n",
              " 'STD DEV   1.39  1.40  1.41  1.67  1.56  1.50  1.40  1.57  1.52  1.43  1.43  1.32\\n',\n",
              " 'SKEW       .81   .57   .47   .50   .45   .88   .48   .80   .61   .40   .76   .61\\n',\n",
              " '% SE      4.18  3.63  3.38  4.03  4.20  4.36  5.46  5.59  4.98  4.22  3.59  3.44\\n',\n",
              " 'MEAN      2.99  3.02  3.20  3.55  3.60  3.51  3.53  3.53  3.48  3.24  2.91  2.99\\n',\n",
              " 'STD DEV   1.42  1.50  1.61  1.79  1.75  1.78  1.63  1.72  1.77  1.44  1.39  1.37\\n',\n",
              " 'SKEW       .95  1.12   .86  1.10   .72   .87   .60   .96   .99   .51   .84   .74\\n',\n",
              " '% SSE     3.44  2.73  3.66  4.68  4.99  6.93  8.21  8.01  4.88  3.60  3.00  2.29\\n',\n",
              " 'MEAN      3.19  3.06  3.63  3.63  3.74  3.64  3.67  3.37  3.14  3.35  2.91  2.81\\n',\n",
              " 'STD DEV   1.37  1.50  1.73  1.68  1.68  1.56  1.58  1.54  1.37  1.44  1.33  1.24\\n',\n",
              " 'SKEW       .62   .60   .87   .80   .57   .53   .74  1.11   .56   .39   .71  1.13\\n',\n",
              " '% S       7.23  7.40  8.44  8.63 11.14 11.19 10.87 10.61 10.25  8.80  7.47  7.05\\n',\n",
              " 'MEAN      3.15  3.14  3.79  3.82  4.15  4.13  3.80  3.47  3.42  3.18  3.11  2.99\\n',\n",
              " 'STD DEV   1.51  1.52  2.06  1.90  2.10  1.90  1.76  1.52  1.65  1.47  1.54  1.37\\n',\n",
              " 'SKEW       .90  1.06  1.00   .78  1.01   .77   .76   .93  1.07  1.03  1.30   .95\\n',\n",
              " '% SSW     7.80  8.32 10.04 11.35 13.19 13.36 10.57 10.46 10.63  9.52  8.27  6.98\\n',\n",
              " 'MEAN      3.72  3.63  4.82  4.88  4.86  4.78  4.06  3.99  3.96  3.95  3.41  3.36\\n',\n",
              " 'STD DEV   2.03  1.86  2.38  2.29  2.14  2.13  1.66  1.76  1.75  1.81  1.71  1.80\\n',\n",
              " 'SKEW      1.06   .78   .70   .70   .53   .60   .62   .77   .81   .85   .98  1.37\\n',\n",
              " '% SW      8.82  9.60 12.53 14.34 15.55 15.72 12.99 10.59 10.58  9.83  8.56  8.65\\n',\n",
              " 'MEAN      3.56  3.71  4.81  4.98  5.12  4.99  4.44  4.01  3.78  3.83  3.34  3.44\\n',\n",
              " 'STD DEV   2.03  2.11  2.54  2.50  2.37  2.28  1.93  1.75  1.86  2.04  1.78  1.92\\n',\n",
              " 'SKEW      1.33  1.07   .80   .82   .62   .58   .56   .66  1.03  1.17  1.37  1.52\\n',\n",
              " '% WSW     5.61  5.76  8.07  8.19  7.95  7.94  7.17  6.50  5.53  4.87  4.76  5.09\\n',\n",
              " 'MEAN      3.61  4.21  5.23  5.28  5.18  5.15  4.64  4.17  4.19  3.99  3.45  3.46\\n',\n",
              " 'STD DEV   2.01  2.32  2.54  2.45  2.34  2.23  1.87  1.63  1.83  1.98  1.68  1.79\\n',\n",
              " 'SKEW      1.18   .76   .64   .45   .48   .48   .44   .34   .68   .91   .84  1.10\\n',\n",
              " '% W       5.43  6.38  7.33  7.56  7.36  8.93 10.56  8.59  6.38  5.10  5.09  5.61\\n',\n",
              " 'MEAN      3.01  3.41  4.18  4.34  4.24  4.20  4.12  3.73  3.64  3.23  2.96  3.14\\n',\n",
              " 'STD DEV   1.50  1.90  2.22  2.27  2.00  1.75  1.71  1.62  1.64  1.57  1.42  1.69\\n',\n",
              " 'SKEW       .95  1.35   .78   .83   .54   .27   .39   .54   .79   .79   .91  1.29\\n',\n",
              " '% WNW     2.49  3.20  2.92  2.65  2.26  2.32  2.65  2.20  2.24  2.08  2.33  2.64\\n',\n",
              " 'MEAN      3.31  3.82  4.17  4.24  4.13  3.70  3.82  3.37  3.32  3.07  3.16  3.10\\n',\n",
              " 'STD DEV   2.00  2.19  2.37  2.18  1.88  1.50  1.53  1.36  1.38  1.41  1.65  1.65\\n',\n",
              " 'SKEW      1.10  1.05   .99   .75   .59   .47   .43   .48   .70   .99   .90  1.02\\n',\n",
              " '% NW      4.36  4.78  4.04  3.50  3.06  2.71  3.31  3.54  3.25  3.28  4.12  4.37\\n',\n",
              " 'MEAN      3.40  3.84  3.88  3.65  3.74  3.18  3.03  2.85  2.81  2.87  3.01  3.30\\n',\n",
              " 'STD DEV   2.25  2.29  2.17  1.99  2.02  1.41  1.34  1.14  1.30  1.32  1.66  2.05\\n',\n",
              " 'SKEW      1.37  1.16  1.14  1.01   .88   .81   .60   .70   .72   .74  1.33  1.34\\n',\n",
              " '% NNW     6.11  6.52  4.82  3.27  2.77  1.89  1.94  2.31  2.80  3.87  5.27  5.96\\n',\n",
              " 'MEAN      3.71  4.40  4.53  3.76  3.83  3.32  3.03  3.10  3.30  3.21  3.64  3.69\\n',\n",
              " 'STD DEV   2.03  2.51  2.49  1.93  1.88  1.67  1.25  1.42  1.67  1.51  1.93  2.03\\n',\n",
              " 'SKEW      1.01  1.08   .80   .91   .66   .70   .51  1.21   .90   .95  1.21  1.21\\n',\n",
              " 'CALM     12.23 10.62  9.24  9.24  8.22  8.94  8.70 10.35  9.85 11.56 14.46 14.49\\n',\n",
              " ' \\n',\n",
              " 'INTERPOLATED DATA (station & weighting factor)\\n',\n",
              " ' \\n',\n",
              " '---Wind Stations---\\n',\n",
              " 'PRESCOTT      AZ     .409  PHOENIX/LITCH.AZ     .329  BLYTHE        CA     .262\\n',\n",
              " '---Solar Radiation and Max .5 P Stations---\\n',\n",
              " ' PHOENIX, ARIZONA    .490   YUMA, ARIZONA       .309   LAS VEGAS, NEVADA   .201 \\n',\n",
              " '---Dewpoint Stations---\\n',\n",
              " 'AZ PRESCOTT          .418  AZ PHOENIX           .359  AZ YUMA              .224 \\n',\n",
              " '---Time Peak Stations---\\n',\n",
              " 'MAYER 3 NNW AZ       .453  KINGMAN 2 AZ         .290  AJO AZ               .257 \\n']"
            ]
          },
          "metadata": {}
        }
      ],
      "execution_count": 176,
      "metadata": {
        "collapsed": false,
        "outputHidden": false,
        "inputHidden": false
      }
    },
    {
      "cell_type": "code",
      "source": [
        "lat, lon = float(data[1][7:14]), float(data[1][19:27])"
      ],
      "outputs": [],
      "execution_count": 177,
      "metadata": {
        "collapsed": false,
        "outputHidden": false,
        "inputHidden": false
      }
    },
    {
      "cell_type": "code",
      "source": [
        "lat, lon"
      ],
      "outputs": [
        {
          "output_type": "execute_result",
          "execution_count": 193,
          "data": {
            "text/plain": [
              "(33.95, -113.18)"
            ]
          },
          "metadata": {}
        }
      ],
      "execution_count": 193,
      "metadata": {
        "collapsed": false,
        "outputHidden": false,
        "inputHidden": false
      }
    },
    {
      "cell_type": "code",
      "source": [
        "Tmax = np.array(data[8][8:-1].split()).astype(float)\n",
        "Tmin = np.array(data[9][8:-1].split()).astype(float)\n",
        "T = (Tmax + Tmin) / 2 # Average Temperature [C]\n",
        "T = (T - 32) * (5.0/9.0) # Average Temperature [C]\n",
        "Tdew = np.array(data[15][8:-1].split()).astype(float) # Dew point temperature (C)\n",
        "Tdew = (Tdew - 32) * (5.0/9.0) # Dew point temperature [C]"
      ],
      "outputs": [
        {
          "output_type": "error",
          "ename": "ValueError",
          "evalue": "could not convert string to float: '98.91102.64100.26'",
          "traceback": [
            "\u001b[0;31m---------------------------------------------------------------------------\u001b[0m",
            "\u001b[0;31mValueError\u001b[0m                                Traceback (most recent call last)",
            "\u001b[0;32m<ipython-input-194-3d3648f6010c>\u001b[0m in \u001b[0;36m<module>\u001b[0;34m()\u001b[0m\n\u001b[0;32m----> 1\u001b[0;31m \u001b[0mTmax\u001b[0m \u001b[0;34m=\u001b[0m \u001b[0mnp\u001b[0m\u001b[0;34m.\u001b[0m\u001b[0marray\u001b[0m\u001b[0;34m(\u001b[0m\u001b[0mdata\u001b[0m\u001b[0;34m[\u001b[0m\u001b[0;36m8\u001b[0m\u001b[0;34m]\u001b[0m\u001b[0;34m[\u001b[0m\u001b[0;36m8\u001b[0m\u001b[0;34m:\u001b[0m\u001b[0;34m-\u001b[0m\u001b[0;36m1\u001b[0m\u001b[0;34m]\u001b[0m\u001b[0;34m.\u001b[0m\u001b[0msplit\u001b[0m\u001b[0;34m(\u001b[0m\u001b[0;34m)\u001b[0m\u001b[0;34m)\u001b[0m\u001b[0;34m.\u001b[0m\u001b[0mastype\u001b[0m\u001b[0;34m(\u001b[0m\u001b[0mfloat\u001b[0m\u001b[0;34m)\u001b[0m\u001b[0;34m\u001b[0m\u001b[0m\n\u001b[0m\u001b[1;32m      2\u001b[0m \u001b[0mTmin\u001b[0m \u001b[0;34m=\u001b[0m \u001b[0mnp\u001b[0m\u001b[0;34m.\u001b[0m\u001b[0marray\u001b[0m\u001b[0;34m(\u001b[0m\u001b[0mdata\u001b[0m\u001b[0;34m[\u001b[0m\u001b[0;36m9\u001b[0m\u001b[0;34m]\u001b[0m\u001b[0;34m[\u001b[0m\u001b[0;36m8\u001b[0m\u001b[0;34m:\u001b[0m\u001b[0;34m-\u001b[0m\u001b[0;36m1\u001b[0m\u001b[0;34m]\u001b[0m\u001b[0;34m.\u001b[0m\u001b[0msplit\u001b[0m\u001b[0;34m(\u001b[0m\u001b[0;34m)\u001b[0m\u001b[0;34m)\u001b[0m\u001b[0;34m.\u001b[0m\u001b[0mastype\u001b[0m\u001b[0;34m(\u001b[0m\u001b[0mfloat\u001b[0m\u001b[0;34m)\u001b[0m\u001b[0;34m\u001b[0m\u001b[0m\n\u001b[1;32m      3\u001b[0m \u001b[0mT\u001b[0m \u001b[0;34m=\u001b[0m \u001b[0;34m(\u001b[0m\u001b[0mTmax\u001b[0m \u001b[0;34m+\u001b[0m \u001b[0mTmin\u001b[0m\u001b[0;34m)\u001b[0m \u001b[0;34m/\u001b[0m \u001b[0;36m2\u001b[0m \u001b[0;31m# Average Temperature [C]\u001b[0m\u001b[0;34m\u001b[0m\u001b[0m\n\u001b[1;32m      4\u001b[0m \u001b[0mT\u001b[0m \u001b[0;34m=\u001b[0m \u001b[0;34m(\u001b[0m\u001b[0mT\u001b[0m \u001b[0;34m-\u001b[0m \u001b[0;36m32\u001b[0m\u001b[0;34m)\u001b[0m \u001b[0;34m*\u001b[0m \u001b[0;34m(\u001b[0m\u001b[0;36m5.0\u001b[0m\u001b[0;34m/\u001b[0m\u001b[0;36m9.0\u001b[0m\u001b[0;34m)\u001b[0m \u001b[0;31m# Average Temperature [C]\u001b[0m\u001b[0;34m\u001b[0m\u001b[0m\n\u001b[1;32m      5\u001b[0m \u001b[0mTdew\u001b[0m \u001b[0;34m=\u001b[0m \u001b[0mnp\u001b[0m\u001b[0;34m.\u001b[0m\u001b[0marray\u001b[0m\u001b[0;34m(\u001b[0m\u001b[0mdata\u001b[0m\u001b[0;34m[\u001b[0m\u001b[0;36m15\u001b[0m\u001b[0;34m]\u001b[0m\u001b[0;34m[\u001b[0m\u001b[0;36m8\u001b[0m\u001b[0;34m:\u001b[0m\u001b[0;34m-\u001b[0m\u001b[0;36m1\u001b[0m\u001b[0;34m]\u001b[0m\u001b[0;34m.\u001b[0m\u001b[0msplit\u001b[0m\u001b[0;34m(\u001b[0m\u001b[0;34m)\u001b[0m\u001b[0;34m)\u001b[0m\u001b[0;34m.\u001b[0m\u001b[0mastype\u001b[0m\u001b[0;34m(\u001b[0m\u001b[0mfloat\u001b[0m\u001b[0;34m)\u001b[0m \u001b[0;31m# Dew point temperature (C)\u001b[0m\u001b[0;34m\u001b[0m\u001b[0m\n",
            "\u001b[0;31mValueError\u001b[0m: could not convert string to float: '98.91102.64100.26'"
          ]
        }
      ],
      "execution_count": 194,
      "metadata": {
        "collapsed": false,
        "outputHidden": false,
        "inputHidden": false
      }
    },
    {
      "cell_type": "code",
      "source": [
        "T, Tdew"
      ],
      "outputs": [
        {
          "output_type": "execute_result",
          "execution_count": 195,
          "data": {
            "text/plain": [
              "(array([  6.26388889,   8.88888889,  13.21666667,  18.41388889,\n",
              "         22.56111111,  26.725     ,  28.65555556,  28.26388889,\n",
              "         24.34444444,  18.88888889,  12.10833333,   7.71111111]),\n",
              " array([ -1.66666667,   0.        ,   0.55555556,   7.22222222,\n",
              "         13.33333333,  16.66666667,  17.22222222,  16.11111111,\n",
              "         14.44444444,  10.        ,   2.77777778,  -0.55555556]))"
            ]
          },
          "metadata": {}
        }
      ],
      "execution_count": 195,
      "metadata": {
        "collapsed": false,
        "outputHidden": false,
        "inputHidden": false
      }
    },
    {
      "cell_type": "code",
      "source": [
        "delta = ( 4098 * (0.6108 * np.exp( (17.27 * T) / (T + 237.3) ) ) ) / ( (T + 237.3)**2 ) # slope of vapor pressure-temperature curve [kPa/C]\n",
        "G = 0 # Soil heat flux ( assume zero for bodies of water ) [MJ/m2/day]\n",
        "gamma = 0.067 # psychometric constant [kPa/C]\n",
        "Rn = np.array(data[12][8:-1].split()).astype(float) # Solar Radiation (langleys/day)\n",
        "Rn = Rn * 0.04184 # Solar Radiation [MJ/m2/day]\n",
        "Rn = Rn * (1-0.27)"
      ],
      "outputs": [],
      "execution_count": 196,
      "metadata": {
        "collapsed": false,
        "outputHidden": false,
        "inputHidden": false
      }
    },
    {
      "cell_type": "code",
      "source": [
        "G, gamma"
      ],
      "outputs": [
        {
          "output_type": "execute_result",
          "execution_count": 197,
          "data": {
            "text/plain": [
              "(0, 0.067)"
            ]
          },
          "metadata": {}
        }
      ],
      "execution_count": 197,
      "metadata": {
        "collapsed": false,
        "outputHidden": false,
        "inputHidden": false
      }
    },
    {
      "cell_type": "code",
      "source": [
        "delta, Rn"
      ],
      "outputs": [
        {
          "output_type": "execute_result",
          "execution_count": 198,
          "data": {
            "text/plain": [
              "(array([ 0.06578613,  0.07704394,  0.09919597,  0.1327561 ,  0.16602007,\n",
              "         0.20623807,  0.22749607,  0.22304068,  0.18234868,  0.13625342,\n",
              "         0.09306228,  0.07180447]),\n",
              " array([  8.7353552,  12.0034776,  15.7908344,  19.0284136,  21.2580672,\n",
              "         22.3576224,  20.1890552,  18.8451544,  17.104192 ,  13.3473784,\n",
              "         10.1708856,   8.2772072]))"
            ]
          },
          "metadata": {}
        }
      ],
      "execution_count": 198,
      "metadata": {
        "collapsed": false,
        "outputHidden": false,
        "inputHidden": false
      }
    },
    {
      "cell_type": "code",
      "source": [
        "time_pk_ind = np.linspace(17,77,16).astype(int) # indices of wind direction percent times\n",
        "mean_wind_ind = time_pk_ind + 1 # indices of mean wind speeds\n",
        "\n",
        "wind_dir_percents = np.empty(shape=(17,12)) # initialize array (16 wind directions + 1 calm X 12 months )\n",
        "wind_speeds = np.empty(shape=(17,12)) # initialize array (16 wind directions + 1 calm X 12 months )\n",
        "\n",
        "for i in range(0,16): # populate arrays from data\n",
        "    wind_dir_percents[i] = np.array(data[time_pk_ind[i]][8:-1].split()).astype(float)\n",
        "    wind_speeds[i] = np.array(data[mean_wind_ind[i]][8:-1].split()).astype(float)\n",
        "wind_dir_percents[16] = np.array(data[81][8:-1].split()).astype(float)\n",
        "wind_speeds[16] = np.zeros(shape=(1,12)) # account for calm conditions\n",
        "\n",
        "percent_time_wind = wind_dir_percents.sum(axis=0) # Check: Must add to 100 % in each month\n",
        "\nu2 = (wind_speeds * (wind_dir_percents/100)).sum(axis=0)*0.44704 # weighted average of all 16 wind directions [m/s]"
      ],
      "outputs": [],
      "execution_count": 199,
      "metadata": {
        "collapsed": false,
        "outputHidden": false,
        "inputHidden": false
      }
    },
    {
      "cell_type": "code",
      "source": [
        "u2.mean()"
      ],
      "outputs": [
        {
          "output_type": "execute_result",
          "execution_count": 200,
          "data": {
            "text/plain": [
              "1.4441854817866668"
            ]
          },
          "metadata": {}
        }
      ],
      "execution_count": 200,
      "metadata": {
        "collapsed": false,
        "outputHidden": false,
        "inputHidden": false
      }
    },
    {
      "cell_type": "code",
      "source": [
        "es = 0.611 * ( 10 ** ( (7.5*T) / (237.3 + T) ) ) # saturated vapor pressure (kPa)\n",
        "ea = 0.611 * ( 10 ** ( (7.5*Tdew) / (237.3 + Tdew) ) ) # actual vapor pressure (kPa)"
      ],
      "outputs": [],
      "execution_count": 201,
      "metadata": {
        "collapsed": false,
        "outputHidden": false,
        "inputHidden": false
      }
    },
    {
      "cell_type": "code",
      "source": [
        "es, ea"
      ],
      "outputs": [
        {
          "output_type": "execute_result",
          "execution_count": 202,
          "data": {
            "text/plain": [
              "(array([ 0.9526284 ,  1.13981926,  1.51957964,  2.11891828,  2.73646771,\n",
              "         3.50915276,  3.92765763,  3.83940627,  3.04699102,  2.18282347,\n",
              "         1.41303507,  1.05216761]),\n",
              " array([ 0.54074522,  0.611     ,  0.63614899,  1.01756377,  1.53119477,\n",
              "         1.89771848,  1.96574873,  1.8317597 ,  1.64578005,  1.22833431,\n",
              "         0.74613711,  0.58673414]))"
            ]
          },
          "metadata": {}
        }
      ],
      "execution_count": 202,
      "metadata": {
        "collapsed": false,
        "outputHidden": false,
        "inputHidden": false
      }
    },
    {
      "cell_type": "code",
      "source": [
        "ETo = ( 0.408 * delta * (Rn - G) + gamma * ( 900 / (T + 273) ) * u2 * (es - ea) ) / (delta + gamma * (1 + 0.34 * u2)) # water volume evapotranspiration (mm/day)\n",
        "ETo = (ETo * 0.00328084) # (ft/day)\n",
        "num_days_in_month = np.array([31, 28, 31, 30, 31, 30, 31, 31, 30, 31, 30, 31])\n",
        "Annual_Evap = (ETo * num_days_in_month).sum() # should be about 7 feet per year"
      ],
      "outputs": [],
      "execution_count": 203,
      "metadata": {
        "collapsed": false,
        "outputHidden": false,
        "inputHidden": false
      }
    },
    {
      "cell_type": "code",
      "source": [
        "Annual_Evap # ft/yr"
      ],
      "outputs": [
        {
          "output_type": "execute_result",
          "execution_count": 204,
          "data": {
            "text/plain": [
              "6.0322100464222128"
            ]
          },
          "metadata": {}
        }
      ],
      "execution_count": 204,
      "metadata": {
        "collapsed": false,
        "outputHidden": false,
        "inputHidden": false
      }
    },
    {
      "cell_type": "code",
      "source": [
        "Evaporation_Data.loc[len(Evaporation_Data)] = [lat, lon, Annual_Evap]"
      ],
      "outputs": [],
      "execution_count": 205,
      "metadata": {
        "collapsed": false,
        "outputHidden": false,
        "inputHidden": false
      }
    },
    {
      "cell_type": "code",
      "source": [
        "Evaporation_Data"
      ],
      "outputs": [
        {
          "output_type": "execute_result",
          "execution_count": 206,
          "data": {
            "text/plain": [
              "      lat     lon  ann_evap_ft\n",
              "0   48.33  -96.78     4.024998\n",
              "1   48.33  -96.78     3.238978\n",
              "2   37.78  -81.18     4.498008\n",
              "3   37.78  -81.18     3.448900\n",
              "4   42.17 -119.90     5.465522\n",
              "5   42.17 -119.90     4.318932\n",
              "6   29.73  -84.98     6.075280\n",
              "7   29.73  -84.98     4.666703\n",
              "8   32.43  -99.68     7.267623\n",
              "9   32.43  -99.68     5.886043\n",
              "10  33.95 -113.18     7.683970\n",
              "11  33.95 -113.18     6.032210"
            ],
            "text/html": [
              "<div>\n",
              "<style>\n",
              "    .dataframe thead tr:only-child th {\n",
              "        text-align: right;\n",
              "    }\n",
              "\n",
              "    .dataframe thead th {\n",
              "        text-align: left;\n",
              "    }\n",
              "\n",
              "    .dataframe tbody tr th {\n",
              "        vertical-align: top;\n",
              "    }\n",
              "</style>\n",
              "<table border=\"1\" class=\"dataframe\">\n",
              "  <thead>\n",
              "    <tr style=\"text-align: right;\">\n",
              "      <th></th>\n",
              "      <th>lat</th>\n",
              "      <th>lon</th>\n",
              "      <th>ann_evap_ft</th>\n",
              "    </tr>\n",
              "  </thead>\n",
              "  <tbody>\n",
              "    <tr>\n",
              "      <th>0</th>\n",
              "      <td>48.33</td>\n",
              "      <td>-96.78</td>\n",
              "      <td>4.024998</td>\n",
              "    </tr>\n",
              "    <tr>\n",
              "      <th>1</th>\n",
              "      <td>48.33</td>\n",
              "      <td>-96.78</td>\n",
              "      <td>3.238978</td>\n",
              "    </tr>\n",
              "    <tr>\n",
              "      <th>2</th>\n",
              "      <td>37.78</td>\n",
              "      <td>-81.18</td>\n",
              "      <td>4.498008</td>\n",
              "    </tr>\n",
              "    <tr>\n",
              "      <th>3</th>\n",
              "      <td>37.78</td>\n",
              "      <td>-81.18</td>\n",
              "      <td>3.448900</td>\n",
              "    </tr>\n",
              "    <tr>\n",
              "      <th>4</th>\n",
              "      <td>42.17</td>\n",
              "      <td>-119.90</td>\n",
              "      <td>5.465522</td>\n",
              "    </tr>\n",
              "    <tr>\n",
              "      <th>5</th>\n",
              "      <td>42.17</td>\n",
              "      <td>-119.90</td>\n",
              "      <td>4.318932</td>\n",
              "    </tr>\n",
              "    <tr>\n",
              "      <th>6</th>\n",
              "      <td>29.73</td>\n",
              "      <td>-84.98</td>\n",
              "      <td>6.075280</td>\n",
              "    </tr>\n",
              "    <tr>\n",
              "      <th>7</th>\n",
              "      <td>29.73</td>\n",
              "      <td>-84.98</td>\n",
              "      <td>4.666703</td>\n",
              "    </tr>\n",
              "    <tr>\n",
              "      <th>8</th>\n",
              "      <td>32.43</td>\n",
              "      <td>-99.68</td>\n",
              "      <td>7.267623</td>\n",
              "    </tr>\n",
              "    <tr>\n",
              "      <th>9</th>\n",
              "      <td>32.43</td>\n",
              "      <td>-99.68</td>\n",
              "      <td>5.886043</td>\n",
              "    </tr>\n",
              "    <tr>\n",
              "      <th>10</th>\n",
              "      <td>33.95</td>\n",
              "      <td>-113.18</td>\n",
              "      <td>7.683970</td>\n",
              "    </tr>\n",
              "    <tr>\n",
              "      <th>11</th>\n",
              "      <td>33.95</td>\n",
              "      <td>-113.18</td>\n",
              "      <td>6.032210</td>\n",
              "    </tr>\n",
              "  </tbody>\n",
              "</table>\n",
              "</div>"
            ]
          },
          "metadata": {}
        }
      ],
      "execution_count": 206,
      "metadata": {
        "collapsed": false,
        "outputHidden": false,
        "inputHidden": false
      }
    },
    {
      "cell_type": "code",
      "source": [
        "4.024998-3.238978, 4.498008-3.448900, 5.465522-4.318932, 6.075280-4.666703, 7.267623-5.886043, 7.683970-6.032210"
      ],
      "outputs": [
        {
          "output_type": "execute_result",
          "execution_count": 210,
          "data": {
            "text/plain": [
              "(0.7860200000000002,\n",
              " 1.0491079999999995,\n",
              " 1.1465899999999998,\n",
              " 1.4085770000000002,\n",
              " 1.3815800000000005,\n",
              " 1.6517600000000003)"
            ]
          },
          "metadata": {}
        }
      ],
      "execution_count": 210,
      "metadata": {
        "collapsed": false,
        "outputHidden": false,
        "inputHidden": false
      }
    },
    {
      "cell_type": "code",
      "source": [
        "np.array([(4.024998-3.238978)/4.024998, (4.498008-3.448900)/4.498008, (5.465522-4.318932)/5.465522, (6.075280-4.666703)/6.075280, (7.267623-5.886043)/7.267623, (7.683970-6.032210)/7.683970]) * 100 / 27"
      ],
      "outputs": [
        {
          "output_type": "execute_result",
          "execution_count": 217,
          "data": {
            "text/plain": [
              "array([ 0.72327618,  0.86384577,  0.77698519,  0.85871793,  0.70407655,\n",
              "        0.7961548 ])"
            ]
          },
          "metadata": {}
        }
      ],
      "execution_count": 217,
      "metadata": {
        "collapsed": false,
        "outputHidden": false,
        "inputHidden": false
      }
    },
    {
      "cell_type": "code",
      "source": [],
      "outputs": [],
      "execution_count": null,
      "metadata": {
        "collapsed": false,
        "outputHidden": false,
        "inputHidden": false
      }
    }
  ],
  "metadata": {
    "kernelspec": {
      "name": "python3",
      "language": "python",
      "display_name": "Python 3"
    },
    "kernel_info": {
      "name": "python3"
    },
    "language_info": {
      "name": "python",
      "version": "3.6.1",
      "mimetype": "text/x-python",
      "codemirror_mode": {
        "name": "ipython",
        "version": 3
      },
      "pygments_lexer": "ipython3",
      "nbconvert_exporter": "python",
      "file_extension": ".py"
    }
  },
  "nbformat": 4,
  "nbformat_minor": 4
}