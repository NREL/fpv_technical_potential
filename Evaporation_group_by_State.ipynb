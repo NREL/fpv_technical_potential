{
  "cells": [
    {
      "cell_type": "code",
      "source": [
        "pwd"
      ],
      "outputs": [
        {
          "output_type": "execute_result",
          "execution_count": 1,
          "data": {
            "text/plain": [
              "'/Users/rspencer'"
            ]
          },
          "metadata": {}
        }
      ],
      "execution_count": 1,
      "metadata": {
        "collapsed": false,
        "outputHidden": false,
        "inputHidden": false
      }
    },
    {
      "cell_type": "code",
      "source": [
        "cd ~/Desktop/floating_Solar/results/"
      ],
      "outputs": [
        {
          "output_type": "stream",
          "name": "stdout",
          "text": [
            "/Users/rspencer/Desktop/floating_Solar/results\n"
          ]
        }
      ],
      "execution_count": 2,
      "metadata": {
        "collapsed": false,
        "outputHidden": false,
        "inputHidden": false
      }
    },
    {
      "cell_type": "code",
      "source": [
        "ls"
      ],
      "outputs": [
        {
          "output_type": "stream",
          "name": "stdout",
          "text": [
            "ALL_v2.csv                              Land_Value.qpj\r\n",
            "\u001b[1m\u001b[36mArchive\u001b[m\u001b[m/                                Land_Value.shp\r\n",
            "Evaporation.cpg                         Land_Value.shx\r\n",
            "Evaporation.dbf                         Methodology.docx\r\n",
            "Evaporation.prj                         \u001b[1m\u001b[36mOwners\u001b[m\u001b[m/\r\n",
            "Evaporation.qpj                         \u001b[1m\u001b[36mPurposes\u001b[m\u001b[m/\r\n",
            "Evaporation.shp                         SAM_Results_v2_cleaned.csv\r\n",
            "Evaporation.shx                         State_Centroids.dbf\r\n",
            "Evaporation2.dbf                        State_Centroids.prj\r\n",
            "Evaporation2.prj                        State_Centroids.qpj\r\n",
            "Evaporation2.qpj                        State_Centroids.shp\r\n",
            "Evaporation2.shp                        State_Centroids.shx\r\n",
            "Evaporation2.shx                        State_Poly.dbf\r\n",
            "Evaporation_Collocated.csv              State_Poly.prj\r\n",
            "\u001b[1m\u001b[36mFigures\u001b[m\u001b[m/                                State_Poly.qpj\r\n",
            "Generation_v2.dbf                       State_Poly.shp\r\n",
            "Generation_v2.prj                       State_Poly.shx\r\n",
            "Generation_v2.qpj                       current_generation.csv\r\n",
            "Generation_v2.shp                       fpv_preliminary_figures_tables.pptx\r\n",
            "Generation_v2.shx                       fpv_preliminary_figures_tables_v2.pptx\r\n",
            "Land_Value.dbf                          results_v2.qgs\r\n",
            "Land_Value.prj                          results_v2.qgs~\r\n"
          ]
        }
      ],
      "execution_count": 3,
      "metadata": {
        "collapsed": false,
        "outputHidden": false,
        "inputHidden": false
      }
    },
    {
      "cell_type": "code",
      "source": [
        "import pandas as pd"
      ],
      "outputs": [],
      "execution_count": 4,
      "metadata": {
        "collapsed": false,
        "outputHidden": false,
        "inputHidden": false
      }
    },
    {
      "cell_type": "code",
      "source": [
        "data1 = pd.read_csv(\"Evaporation_Collocated.csv\")\n",
        "data1.head()"
      ],
      "outputs": [
        {
          "output_type": "execute_result",
          "execution_count": 17,
          "data": {
            "text/plain": [
              "            X          Y  field_1        lat        long  nid_area  row_num  \\\n",
              "0  -93.726522  35.227301        0  35.227301  -93.726522      14.0        1   \n",
              "1  -95.047611  34.781097        1  34.781097  -95.047611       5.0        2   \n",
              "2 -121.468046  40.026190        2  40.026190 -121.468046     173.0        3   \n",
              "3 -104.865400  38.795566        3  38.795566 -104.865400      12.0        4   \n",
              "4  -73.262140  41.979756        4  41.979756  -73.262140     178.0        5   \n",
              "\n",
              "    TIN_US  \n",
              "0  5.65193  \n",
              "1  5.69601  \n",
              "2  5.66971  \n",
              "3  3.91657  \n",
              "4  3.62617  "
            ],
            "text/html": [
              "<div>\n",
              "<style>\n",
              "    .dataframe thead tr:only-child th {\n",
              "        text-align: right;\n",
              "    }\n",
              "\n",
              "    .dataframe thead th {\n",
              "        text-align: left;\n",
              "    }\n",
              "\n",
              "    .dataframe tbody tr th {\n",
              "        vertical-align: top;\n",
              "    }\n",
              "</style>\n",
              "<table border=\"1\" class=\"dataframe\">\n",
              "  <thead>\n",
              "    <tr style=\"text-align: right;\">\n",
              "      <th></th>\n",
              "      <th>X</th>\n",
              "      <th>Y</th>\n",
              "      <th>field_1</th>\n",
              "      <th>lat</th>\n",
              "      <th>long</th>\n",
              "      <th>nid_area</th>\n",
              "      <th>row_num</th>\n",
              "      <th>TIN_US</th>\n",
              "    </tr>\n",
              "  </thead>\n",
              "  <tbody>\n",
              "    <tr>\n",
              "      <th>0</th>\n",
              "      <td>-93.726522</td>\n",
              "      <td>35.227301</td>\n",
              "      <td>0</td>\n",
              "      <td>35.227301</td>\n",
              "      <td>-93.726522</td>\n",
              "      <td>14.0</td>\n",
              "      <td>1</td>\n",
              "      <td>5.65193</td>\n",
              "    </tr>\n",
              "    <tr>\n",
              "      <th>1</th>\n",
              "      <td>-95.047611</td>\n",
              "      <td>34.781097</td>\n",
              "      <td>1</td>\n",
              "      <td>34.781097</td>\n",
              "      <td>-95.047611</td>\n",
              "      <td>5.0</td>\n",
              "      <td>2</td>\n",
              "      <td>5.69601</td>\n",
              "    </tr>\n",
              "    <tr>\n",
              "      <th>2</th>\n",
              "      <td>-121.468046</td>\n",
              "      <td>40.026190</td>\n",
              "      <td>2</td>\n",
              "      <td>40.026190</td>\n",
              "      <td>-121.468046</td>\n",
              "      <td>173.0</td>\n",
              "      <td>3</td>\n",
              "      <td>5.66971</td>\n",
              "    </tr>\n",
              "    <tr>\n",
              "      <th>3</th>\n",
              "      <td>-104.865400</td>\n",
              "      <td>38.795566</td>\n",
              "      <td>3</td>\n",
              "      <td>38.795566</td>\n",
              "      <td>-104.865400</td>\n",
              "      <td>12.0</td>\n",
              "      <td>4</td>\n",
              "      <td>3.91657</td>\n",
              "    </tr>\n",
              "    <tr>\n",
              "      <th>4</th>\n",
              "      <td>-73.262140</td>\n",
              "      <td>41.979756</td>\n",
              "      <td>4</td>\n",
              "      <td>41.979756</td>\n",
              "      <td>-73.262140</td>\n",
              "      <td>178.0</td>\n",
              "      <td>5</td>\n",
              "      <td>3.62617</td>\n",
              "    </tr>\n",
              "  </tbody>\n",
              "</table>\n",
              "</div>"
            ]
          },
          "metadata": {}
        }
      ],
      "execution_count": 17,
      "metadata": {
        "collapsed": false,
        "outputHidden": false,
        "inputHidden": false
      }
    },
    {
      "cell_type": "code",
      "source": [
        "data2 = pd.read_csv(\"SAM_Results_v2_cleaned.csv\")\n",
        "data2.head()"
      ],
      "outputs": [
        {
          "output_type": "execute_result",
          "execution_count": 18,
          "data": {
            "text/plain": [
              "   Unnamed: 0 state        lat        long  nid_area\n",
              "0           0    AR  35.227301  -93.726522      14.0\n",
              "1           1    OK  34.781097  -95.047611       5.0\n",
              "2           2    CA  40.026190 -121.468046     173.0\n",
              "3           3    CO  38.795566 -104.865400      12.0\n",
              "4           4    CT  41.979756  -73.262140     178.0"
            ],
            "text/html": [
              "<div>\n",
              "<style>\n",
              "    .dataframe thead tr:only-child th {\n",
              "        text-align: right;\n",
              "    }\n",
              "\n",
              "    .dataframe thead th {\n",
              "        text-align: left;\n",
              "    }\n",
              "\n",
              "    .dataframe tbody tr th {\n",
              "        vertical-align: top;\n",
              "    }\n",
              "</style>\n",
              "<table border=\"1\" class=\"dataframe\">\n",
              "  <thead>\n",
              "    <tr style=\"text-align: right;\">\n",
              "      <th></th>\n",
              "      <th>Unnamed: 0</th>\n",
              "      <th>state</th>\n",
              "      <th>lat</th>\n",
              "      <th>long</th>\n",
              "      <th>nid_area</th>\n",
              "    </tr>\n",
              "  </thead>\n",
              "  <tbody>\n",
              "    <tr>\n",
              "      <th>0</th>\n",
              "      <td>0</td>\n",
              "      <td>AR</td>\n",
              "      <td>35.227301</td>\n",
              "      <td>-93.726522</td>\n",
              "      <td>14.0</td>\n",
              "    </tr>\n",
              "    <tr>\n",
              "      <th>1</th>\n",
              "      <td>1</td>\n",
              "      <td>OK</td>\n",
              "      <td>34.781097</td>\n",
              "      <td>-95.047611</td>\n",
              "      <td>5.0</td>\n",
              "    </tr>\n",
              "    <tr>\n",
              "      <th>2</th>\n",
              "      <td>2</td>\n",
              "      <td>CA</td>\n",
              "      <td>40.026190</td>\n",
              "      <td>-121.468046</td>\n",
              "      <td>173.0</td>\n",
              "    </tr>\n",
              "    <tr>\n",
              "      <th>3</th>\n",
              "      <td>3</td>\n",
              "      <td>CO</td>\n",
              "      <td>38.795566</td>\n",
              "      <td>-104.865400</td>\n",
              "      <td>12.0</td>\n",
              "    </tr>\n",
              "    <tr>\n",
              "      <th>4</th>\n",
              "      <td>4</td>\n",
              "      <td>CT</td>\n",
              "      <td>41.979756</td>\n",
              "      <td>-73.262140</td>\n",
              "      <td>178.0</td>\n",
              "    </tr>\n",
              "  </tbody>\n",
              "</table>\n",
              "</div>"
            ]
          },
          "metadata": {}
        }
      ],
      "execution_count": 18,
      "metadata": {
        "collapsed": false,
        "outputHidden": false,
        "inputHidden": false
      }
    },
    {
      "cell_type": "code",
      "source": [
        "data1[\"state\"] = data2.state\n",
        "data1[\"volume\"] = data1.nid_area * data1.TIN_US"
      ],
      "outputs": [],
      "execution_count": 19,
      "metadata": {
        "collapsed": false,
        "outputHidden": false,
        "inputHidden": false
      }
    },
    {
      "cell_type": "code",
      "source": [
        "data1.head()"
      ],
      "outputs": [
        {
          "output_type": "execute_result",
          "execution_count": 20,
          "data": {
            "text/plain": [
              "            X          Y  field_1        lat        long  nid_area  row_num  \\\n",
              "0  -93.726522  35.227301        0  35.227301  -93.726522      14.0        1   \n",
              "1  -95.047611  34.781097        1  34.781097  -95.047611       5.0        2   \n",
              "2 -121.468046  40.026190        2  40.026190 -121.468046     173.0        3   \n",
              "3 -104.865400  38.795566        3  38.795566 -104.865400      12.0        4   \n",
              "4  -73.262140  41.979756        4  41.979756  -73.262140     178.0        5   \n",
              "\n",
              "    TIN_US state     volume  \n",
              "0  5.65193    AR   79.12702  \n",
              "1  5.69601    OK   28.48005  \n",
              "2  5.66971    CA  980.85983  \n",
              "3  3.91657    CO   46.99884  \n",
              "4  3.62617    CT  645.45826  "
            ],
            "text/html": [
              "<div>\n",
              "<style>\n",
              "    .dataframe thead tr:only-child th {\n",
              "        text-align: right;\n",
              "    }\n",
              "\n",
              "    .dataframe thead th {\n",
              "        text-align: left;\n",
              "    }\n",
              "\n",
              "    .dataframe tbody tr th {\n",
              "        vertical-align: top;\n",
              "    }\n",
              "</style>\n",
              "<table border=\"1\" class=\"dataframe\">\n",
              "  <thead>\n",
              "    <tr style=\"text-align: right;\">\n",
              "      <th></th>\n",
              "      <th>X</th>\n",
              "      <th>Y</th>\n",
              "      <th>field_1</th>\n",
              "      <th>lat</th>\n",
              "      <th>long</th>\n",
              "      <th>nid_area</th>\n",
              "      <th>row_num</th>\n",
              "      <th>TIN_US</th>\n",
              "      <th>state</th>\n",
              "      <th>volume</th>\n",
              "    </tr>\n",
              "  </thead>\n",
              "  <tbody>\n",
              "    <tr>\n",
              "      <th>0</th>\n",
              "      <td>-93.726522</td>\n",
              "      <td>35.227301</td>\n",
              "      <td>0</td>\n",
              "      <td>35.227301</td>\n",
              "      <td>-93.726522</td>\n",
              "      <td>14.0</td>\n",
              "      <td>1</td>\n",
              "      <td>5.65193</td>\n",
              "      <td>AR</td>\n",
              "      <td>79.12702</td>\n",
              "    </tr>\n",
              "    <tr>\n",
              "      <th>1</th>\n",
              "      <td>-95.047611</td>\n",
              "      <td>34.781097</td>\n",
              "      <td>1</td>\n",
              "      <td>34.781097</td>\n",
              "      <td>-95.047611</td>\n",
              "      <td>5.0</td>\n",
              "      <td>2</td>\n",
              "      <td>5.69601</td>\n",
              "      <td>OK</td>\n",
              "      <td>28.48005</td>\n",
              "    </tr>\n",
              "    <tr>\n",
              "      <th>2</th>\n",
              "      <td>-121.468046</td>\n",
              "      <td>40.026190</td>\n",
              "      <td>2</td>\n",
              "      <td>40.026190</td>\n",
              "      <td>-121.468046</td>\n",
              "      <td>173.0</td>\n",
              "      <td>3</td>\n",
              "      <td>5.66971</td>\n",
              "      <td>CA</td>\n",
              "      <td>980.85983</td>\n",
              "    </tr>\n",
              "    <tr>\n",
              "      <th>3</th>\n",
              "      <td>-104.865400</td>\n",
              "      <td>38.795566</td>\n",
              "      <td>3</td>\n",
              "      <td>38.795566</td>\n",
              "      <td>-104.865400</td>\n",
              "      <td>12.0</td>\n",
              "      <td>4</td>\n",
              "      <td>3.91657</td>\n",
              "      <td>CO</td>\n",
              "      <td>46.99884</td>\n",
              "    </tr>\n",
              "    <tr>\n",
              "      <th>4</th>\n",
              "      <td>-73.262140</td>\n",
              "      <td>41.979756</td>\n",
              "      <td>4</td>\n",
              "      <td>41.979756</td>\n",
              "      <td>-73.262140</td>\n",
              "      <td>178.0</td>\n",
              "      <td>5</td>\n",
              "      <td>3.62617</td>\n",
              "      <td>CT</td>\n",
              "      <td>645.45826</td>\n",
              "    </tr>\n",
              "  </tbody>\n",
              "</table>\n",
              "</div>"
            ]
          },
          "metadata": {}
        }
      ],
      "execution_count": 20,
      "metadata": {
        "collapsed": false,
        "outputHidden": false,
        "inputHidden": false
      }
    },
    {
      "cell_type": "code",
      "source": [
        "data1[['state','volume']].groupby(\"state\").sum().to_csv(\"test.csv\")"
      ],
      "outputs": [],
      "execution_count": 25,
      "metadata": {
        "collapsed": false,
        "outputHidden": false,
        "inputHidden": false
      }
    },
    {
      "cell_type": "code",
      "source": [],
      "outputs": [],
      "execution_count": null,
      "metadata": {
        "collapsed": false,
        "outputHidden": false,
        "inputHidden": false
      }
    }
  ],
  "metadata": {
    "kernelspec": {
      "name": "python3",
      "language": "python",
      "display_name": "Python 3"
    },
    "kernel_info": {
      "name": "python3"
    },
    "language_info": {
      "name": "python",
      "version": "3.6.1",
      "mimetype": "text/x-python",
      "codemirror_mode": {
        "name": "ipython",
        "version": 3
      },
      "pygments_lexer": "ipython3",
      "nbconvert_exporter": "python",
      "file_extension": ".py"
    }
  },
  "nbformat": 4,
  "nbformat_minor": 4
}